{
  "nbformat": 4,
  "nbformat_minor": 0,
  "metadata": {
    "colab": {
      "provenance": []
    },
    "kernelspec": {
      "name": "python3",
      "display_name": "Python 3"
    },
    "language_info": {
      "name": "python"
    }
  },
  "cells": [
    {
      "cell_type": "markdown",
      "source": [
        "<center><h1>Diabetes Prediction</h1></center>\n"
      ],
      "metadata": {
        "id": "zuWpFJZyNxte"
      }
    },
    {
      "cell_type": "markdown",
      "source": [
        "# Load Data and Create DataFrame"
      ],
      "metadata": {
        "id": "N_ZkeroVOODK"
      }
    },
    {
      "cell_type": "code",
      "execution_count": null,
      "metadata": {
        "id": "05lJwZJU1nTM",
        "colab": {
          "base_uri": "https://localhost:8080/"
        },
        "outputId": "43168832-0a6c-47d7-e375-cd81272d8345"
      },
      "outputs": [
        {
          "output_type": "stream",
          "name": "stdout",
          "text": [
            "     Pregnancies  Glucose  BloodPressure  SkinThickness  Insulin   BMI  \\\n",
            "0              6      148             72             35        0  33.6   \n",
            "1              1       85             66             29        0  26.6   \n",
            "2              8      183             64              0        0  23.3   \n",
            "3              1       89             66             23       94  28.1   \n",
            "4              0      137             40             35      168  43.1   \n",
            "..           ...      ...            ...            ...      ...   ...   \n",
            "763           10      101             76             48      180  32.9   \n",
            "764            2      122             70             27        0  36.8   \n",
            "765            5      121             72             23      112  26.2   \n",
            "766            1      126             60              0        0  30.1   \n",
            "767            1       93             70             31        0  30.4   \n",
            "\n",
            "     DiabetesPedigreeFunction  Age  Outcome  \n",
            "0                       0.627   50        1  \n",
            "1                       0.351   31        0  \n",
            "2                       0.672   32        1  \n",
            "3                       0.167   21        0  \n",
            "4                       2.288   33        1  \n",
            "..                        ...  ...      ...  \n",
            "763                     0.171   63        0  \n",
            "764                     0.340   27        0  \n",
            "765                     0.245   30        0  \n",
            "766                     0.349   47        1  \n",
            "767                     0.315   23        0  \n",
            "\n",
            "[768 rows x 9 columns]\n"
          ]
        }
      ],
      "source": [
        "import numpy as np\n",
        "import pandas as pd\n",
        "df=pd.read_csv('/content/diabetes.csv')\n",
        "print(df)"
      ]
    },
    {
      "cell_type": "markdown",
      "source": [
        "# Data Preprocessing"
      ],
      "metadata": {
        "id": "KMTQFsvKOZll"
      }
    },
    {
      "cell_type": "markdown",
      "source": [
        "**Printing first 5 rows**"
      ],
      "metadata": {
        "id": "ZuBoNiuVOhLF"
      }
    },
    {
      "cell_type": "code",
      "source": [
        "print(df.head())"
      ],
      "metadata": {
        "id": "LSVkrjZP4rLC",
        "colab": {
          "base_uri": "https://localhost:8080/"
        },
        "outputId": "b133952d-83fe-4c03-815b-f610479d7e36"
      },
      "execution_count": null,
      "outputs": [
        {
          "output_type": "stream",
          "name": "stdout",
          "text": [
            "   Pregnancies  Glucose  BloodPressure  SkinThickness  Insulin   BMI  \\\n",
            "0            6      148             72             35        0  33.6   \n",
            "1            1       85             66             29        0  26.6   \n",
            "2            8      183             64              0        0  23.3   \n",
            "3            1       89             66             23       94  28.1   \n",
            "4            0      137             40             35      168  43.1   \n",
            "\n",
            "   DiabetesPedigreeFunction  Age  Outcome  \n",
            "0                     0.627   50        1  \n",
            "1                     0.351   31        0  \n",
            "2                     0.672   32        1  \n",
            "3                     0.167   21        0  \n",
            "4                     2.288   33        1  \n"
          ]
        }
      ]
    },
    {
      "cell_type": "markdown",
      "source": [
        "**Printing last 5 rows**"
      ],
      "metadata": {
        "id": "4bQAI4mEOm9w"
      }
    },
    {
      "cell_type": "code",
      "source": [
        "print(df.tail())"
      ],
      "metadata": {
        "id": "yPhH9kNl4sk6",
        "colab": {
          "base_uri": "https://localhost:8080/"
        },
        "outputId": "f36dbea6-32c0-4599-bc47-423d181aff96"
      },
      "execution_count": null,
      "outputs": [
        {
          "output_type": "stream",
          "name": "stdout",
          "text": [
            "     Pregnancies  Glucose  BloodPressure  SkinThickness  Insulin   BMI  \\\n",
            "763           10      101             76             48      180  32.9   \n",
            "764            2      122             70             27        0  36.8   \n",
            "765            5      121             72             23      112  26.2   \n",
            "766            1      126             60              0        0  30.1   \n",
            "767            1       93             70             31        0  30.4   \n",
            "\n",
            "     DiabetesPedigreeFunction  Age  Outcome  \n",
            "763                     0.171   63        0  \n",
            "764                     0.340   27        0  \n",
            "765                     0.245   30        0  \n",
            "766                     0.349   47        1  \n",
            "767                     0.315   23        0  \n"
          ]
        }
      ]
    },
    {
      "cell_type": "markdown",
      "source": [
        "**Printing the count of output**"
      ],
      "metadata": {
        "id": "XcUJVPDVO6aV"
      }
    },
    {
      "cell_type": "code",
      "source": [
        "a=df['Outcome'].value_counts()\n",
        "a"
      ],
      "metadata": {
        "colab": {
          "base_uri": "https://localhost:8080/"
        },
        "id": "gIN6DFKbIZkm",
        "outputId": "3e6dac88-0351-40c2-bb38-1a05b6d39188"
      },
      "execution_count": null,
      "outputs": [
        {
          "output_type": "execute_result",
          "data": {
            "text/plain": [
              "0    500\n",
              "1    268\n",
              "Name: Outcome, dtype: int64"
            ]
          },
          "metadata": {},
          "execution_count": 157
        }
      ]
    },
    {
      "cell_type": "markdown",
      "source": [
        "**Class Distribution Bar Chart**"
      ],
      "metadata": {
        "id": "DqpLAFrJPap1"
      }
    },
    {
      "cell_type": "code",
      "source": [
        "import matplotlib.pyplot as plt\n",
        "plt.figure(figsize=(8, 5))\n",
        "plt.bar(a.index, a.values)\n",
        "plt.xlabel('Class')\n",
        "plt.ylabel('Count')\n",
        "plt.title('Class Distribution')\n",
        "plt.show()\n"
      ],
      "metadata": {
        "colab": {
          "base_uri": "https://localhost:8080/",
          "height": 487
        },
        "id": "kb-UARNlIrkc",
        "outputId": "d4df5a5e-3a28-4357-ada1-ca3243d67d39"
      },
      "execution_count": null,
      "outputs": [
        {
          "output_type": "display_data",
          "data": {
            "text/plain": [
              "<Figure size 800x500 with 1 Axes>"
            ],
            "image/png": "[encoded data removed]"
          },
          "metadata": {}
        }
      ]
    },
    {
      "cell_type": "markdown",
      "source": [
        "**Printing the datatypes of each column**"
      ],
      "metadata": {
        "id": "dBHafBcHPnT1"
      }
    },
    {
      "cell_type": "code",
      "source": [
        "df.dtypes"
      ],
      "metadata": {
        "id": "s71AdWIP4zp0",
        "colab": {
          "base_uri": "https://localhost:8080/"
        },
        "outputId": "246c97b5-475a-446d-877a-68a9958c1379"
      },
      "execution_count": null,
      "outputs": [
        {
          "output_type": "execute_result",
          "data": {
            "text/plain": [
              "Pregnancies                   int64\n",
              "Glucose                       int64\n",
              "BloodPressure                 int64\n",
              "SkinThickness                 int64\n",
              "Insulin                       int64\n",
              "BMI                         float64\n",
              "DiabetesPedigreeFunction    float64\n",
              "Age                           int64\n",
              "Outcome                       int64\n",
              "dtype: object"
            ]
          },
          "metadata": {},
          "execution_count": 159
        }
      ]
    },
    {
      "cell_type": "markdown",
      "source": [
        "**Printing the missing values**"
      ],
      "metadata": {
        "id": "TG75YLkDPvKW"
      }
    },
    {
      "cell_type": "code",
      "source": [
        "df.isna().sum()"
      ],
      "metadata": {
        "id": "Y6ILtw4_43Yn",
        "colab": {
          "base_uri": "https://localhost:8080/"
        },
        "outputId": "b910243e-19b6-43ea-a8a7-84f7b9f3bd43"
      },
      "execution_count": null,
      "outputs": [
        {
          "output_type": "execute_result",
          "data": {
            "text/plain": [
              "Pregnancies                 0\n",
              "Glucose                     0\n",
              "BloodPressure               0\n",
              "SkinThickness               0\n",
              "Insulin                     0\n",
              "BMI                         0\n",
              "DiabetesPedigreeFunction    0\n",
              "Age                         0\n",
              "Outcome                     0\n",
              "dtype: int64"
            ]
          },
          "metadata": {},
          "execution_count": 160
        }
      ]
    },
    {
      "cell_type": "markdown",
      "source": [
        "**Seperate x as input feature**"
      ],
      "metadata": {
        "id": "u-XUlgYgP1Kt"
      }
    },
    {
      "cell_type": "code",
      "source": [
        "x=df.iloc[:,:-1]\n",
        "print(x)"
      ],
      "metadata": {
        "id": "NEen4nUD2GQG",
        "colab": {
          "base_uri": "https://localhost:8080/"
        },
        "outputId": "3455284a-a9f5-4b07-fa46-8d3b6b557fe1"
      },
      "execution_count": null,
      "outputs": [
        {
          "output_type": "stream",
          "name": "stdout",
          "text": [
            "     Pregnancies  Glucose  BloodPressure  SkinThickness  Insulin   BMI  \\\n",
            "0              6      148             72             35        0  33.6   \n",
            "1              1       85             66             29        0  26.6   \n",
            "2              8      183             64              0        0  23.3   \n",
            "3              1       89             66             23       94  28.1   \n",
            "4              0      137             40             35      168  43.1   \n",
            "..           ...      ...            ...            ...      ...   ...   \n",
            "763           10      101             76             48      180  32.9   \n",
            "764            2      122             70             27        0  36.8   \n",
            "765            5      121             72             23      112  26.2   \n",
            "766            1      126             60              0        0  30.1   \n",
            "767            1       93             70             31        0  30.4   \n",
            "\n",
            "     DiabetesPedigreeFunction  Age  \n",
            "0                       0.627   50  \n",
            "1                       0.351   31  \n",
            "2                       0.672   32  \n",
            "3                       0.167   21  \n",
            "4                       2.288   33  \n",
            "..                        ...  ...  \n",
            "763                     0.171   63  \n",
            "764                     0.340   27  \n",
            "765                     0.245   30  \n",
            "766                     0.349   47  \n",
            "767                     0.315   23  \n",
            "\n",
            "[768 rows x 8 columns]\n"
          ]
        }
      ]
    },
    {
      "cell_type": "markdown",
      "source": [
        "**y as class label**"
      ],
      "metadata": {
        "id": "YWE3g7CvP7vW"
      }
    },
    {
      "cell_type": "code",
      "source": [
        "y=df.iloc[:,-1]\n",
        "print(y)"
      ],
      "metadata": {
        "id": "RZE2JAKO2aoG",
        "colab": {
          "base_uri": "https://localhost:8080/"
        },
        "outputId": "d98d3d92-a81b-4b68-c0e9-b28eada0ff1e"
      },
      "execution_count": null,
      "outputs": [
        {
          "output_type": "stream",
          "name": "stdout",
          "text": [
            "0      1\n",
            "1      0\n",
            "2      1\n",
            "3      0\n",
            "4      1\n",
            "      ..\n",
            "763    0\n",
            "764    0\n",
            "765    0\n",
            "766    1\n",
            "767    0\n",
            "Name: Outcome, Length: 768, dtype: int64\n"
          ]
        }
      ]
    },
    {
      "cell_type": "markdown",
      "source": [
        "**Correlation matrix**"
      ],
      "metadata": {
        "id": "8_x7QdfOQxDW"
      }
    },
    {
      "cell_type": "code",
      "source": [
        "import seaborn as sns\n",
        "corr_matrix = x.corr()\n",
        "plt.figure(figsize=(10, 8))\n",
        "sns.heatmap(corr_matrix, annot=True, cmap='coolwarm', fmt='.2f')\n",
        "plt.title('Feature Correlations')\n",
        "plt.show()"
      ],
      "metadata": {
        "colab": {
          "base_uri": "https://localhost:8080/",
          "height": 866
        },
        "id": "14J3HgZYLXV2",
        "outputId": "60614ee3-4cd1-4063-925f-d52c5f1f1e9e"
      },
      "execution_count": null,
      "outputs": [
        {
          "output_type": "display_data",
          "data": {
            "text/plain": [
              "<Figure size 1000x800 with 2 Axes>"
            ],
            "image/png": "[encoded data removed]"
          },
          "metadata": {}
        }
      ]
    },
    {
      "cell_type": "markdown",
      "source": [
        "**split the data into training and testing**"
      ],
      "metadata": {
        "id": "dLQmxXXYQ4rx"
      }
    },
    {
      "cell_type": "code",
      "source": [
        "from sklearn.model_selection import train_test_split\n",
        "x_train,x_test,y_train,y_test=train_test_split(x,y,test_size=0.20,random_state=1)"
      ],
      "metadata": {
        "id": "HfG4FNXK2j0Q"
      },
      "execution_count": null,
      "outputs": []
    },
    {
      "cell_type": "code",
      "source": [
        "print(x_train)"
      ],
      "metadata": {
        "id": "snw3FaW73K7o",
        "colab": {
          "base_uri": "https://localhost:8080/"
        },
        "outputId": "4002872b-ff0e-4147-9d5d-cf5d20955532"
      },
      "execution_count": null,
      "outputs": [
        {
          "output_type": "stream",
          "name": "stdout",
          "text": [
            "     Pregnancies  Glucose  BloodPressure  SkinThickness  Insulin   BMI  \\\n",
            "663            9      145             80             46      130  37.9   \n",
            "712           10      129             62             36        0  41.2   \n",
            "161            7      102             74             40      105  37.2   \n",
            "509            8      120             78              0        0  25.0   \n",
            "305            2      120             76             37      105  39.7   \n",
            "..           ...      ...            ...            ...      ...   ...   \n",
            "645            2      157             74             35      440  39.4   \n",
            "715            7      187             50             33      392  33.9   \n",
            "72            13      126             90              0        0  43.4   \n",
            "235            4      171             72              0        0  43.6   \n",
            "37             9      102             76             37        0  32.9   \n",
            "\n",
            "     DiabetesPedigreeFunction  Age  \n",
            "663                     0.637   40  \n",
            "712                     0.441   38  \n",
            "161                     0.204   45  \n",
            "509                     0.409   64  \n",
            "305                     0.215   29  \n",
            "..                        ...  ...  \n",
            "645                     0.134   30  \n",
            "715                     0.826   34  \n",
            "72                      0.583   42  \n",
            "235                     0.479   26  \n",
            "37                      0.665   46  \n",
            "\n",
            "[614 rows x 8 columns]\n"
          ]
        }
      ]
    },
    {
      "cell_type": "code",
      "source": [
        "print(x_test)"
      ],
      "metadata": {
        "id": "hefHYstA3Npb",
        "colab": {
          "base_uri": "https://localhost:8080/"
        },
        "outputId": "b9a05d9a-8b3e-49d7-8416-357cc0511a63"
      },
      "execution_count": null,
      "outputs": [
        {
          "output_type": "stream",
          "name": "stdout",
          "text": [
            "     Pregnancies  Glucose  BloodPressure  SkinThickness  Insulin   BMI  \\\n",
            "285            7      136             74             26      135  26.0   \n",
            "101            1      151             60              0        0  26.1   \n",
            "581            6      109             60             27        0  25.0   \n",
            "352            3       61             82             28        0  34.4   \n",
            "726            1      116             78             29      180  36.1   \n",
            "..           ...      ...            ...            ...      ...   ...   \n",
            "563            6       99             60             19       54  26.9   \n",
            "318            3      115             66             39      140  38.1   \n",
            "154            8      188             78              0        0  47.9   \n",
            "684            5      136             82              0        0   0.0   \n",
            "643            4       90              0              0        0  28.0   \n",
            "\n",
            "     DiabetesPedigreeFunction  Age  \n",
            "285                     0.647   51  \n",
            "101                     0.179   22  \n",
            "581                     0.206   27  \n",
            "352                     0.243   46  \n",
            "726                     0.496   25  \n",
            "..                        ...  ...  \n",
            "563                     0.497   32  \n",
            "318                     0.150   28  \n",
            "154                     0.137   43  \n",
            "684                     0.640   69  \n",
            "643                     0.610   31  \n",
            "\n",
            "[154 rows x 8 columns]\n"
          ]
        }
      ]
    },
    {
      "cell_type": "code",
      "source": [
        "y_train"
      ],
      "metadata": {
        "id": "AIL0bgSU3PdL",
        "colab": {
          "base_uri": "https://localhost:8080/"
        },
        "outputId": "d1027b9f-21e9-44a3-8ac2-e1e12bc0c17e"
      },
      "execution_count": null,
      "outputs": [
        {
          "output_type": "execute_result",
          "data": {
            "text/plain": [
              "663    1\n",
              "712    1\n",
              "161    0\n",
              "509    0\n",
              "305    0\n",
              "      ..\n",
              "645    0\n",
              "715    1\n",
              "72     1\n",
              "235    1\n",
              "37     1\n",
              "Name: Outcome, Length: 614, dtype: int64"
            ]
          },
          "metadata": {},
          "execution_count": 168
        }
      ]
    },
    {
      "cell_type": "code",
      "source": [
        "y_test"
      ],
      "metadata": {
        "id": "G4eHhHpu3Rur",
        "colab": {
          "base_uri": "https://localhost:8080/"
        },
        "outputId": "d4f580a2-6c6c-4278-90b0-eda646fbebae"
      },
      "execution_count": null,
      "outputs": [
        {
          "output_type": "execute_result",
          "data": {
            "text/plain": [
              "285    0\n",
              "101    0\n",
              "581    0\n",
              "352    0\n",
              "726    0\n",
              "      ..\n",
              "563    0\n",
              "318    0\n",
              "154    1\n",
              "684    0\n",
              "643    0\n",
              "Name: Outcome, Length: 154, dtype: int64"
            ]
          },
          "metadata": {},
          "execution_count": 169
        }
      ]
    },
    {
      "cell_type": "markdown",
      "source": [
        "**Normalizing the data using StandardScaler**"
      ],
      "metadata": {
        "id": "syiV8qJ-RB1P"
      }
    },
    {
      "cell_type": "code",
      "source": [
        "from sklearn.preprocessing import StandardScaler\n",
        "scalar=StandardScaler()\n",
        "scalar.fit(x_train)\n",
        "x_train=scalar.transform(x_train)\n",
        "x_test=scalar.transform(x_test)\n"
      ],
      "metadata": {
        "id": "JTOVlrah3cxf"
      },
      "execution_count": null,
      "outputs": []
    },
    {
      "cell_type": "code",
      "source": [
        "x_train"
      ],
      "metadata": {
        "id": "L6otC18d5kEA",
        "colab": {
          "base_uri": "https://localhost:8080/"
        },
        "outputId": "23e6e7a1-bf80-4656-8191-3264a7a47fb0"
      },
      "execution_count": null,
      "outputs": [
        {
          "output_type": "execute_result",
          "data": {
            "text/plain": [
              "array([[ 1.51659096,  0.75052361,  0.56475624, ...,  0.79582546,\n",
              "         0.52952571,  0.56793202],\n",
              "       [ 1.81201827,  0.24475163, -0.34790438, ...,  1.22865369,\n",
              "        -0.06968859,  0.39844951],\n",
              "       [ 0.92573636, -0.60873859,  0.26053603, ...,  0.70401341,\n",
              "        -0.79424873,  0.99163829],\n",
              "       ...,\n",
              "       [ 2.69830017,  0.14991938,  1.07178992, ...,  1.51720584,\n",
              "         0.36443605,  0.73741453],\n",
              "       [ 0.03945446,  1.57240307,  0.1591293 , ...,  1.54343785,\n",
              "         0.04648561, -0.61844554],\n",
              "       [ 1.51659096, -0.60873859,  0.36194277, ...,  0.14002512,\n",
              "         0.61512775,  1.07637954]])"
            ]
          },
          "metadata": {},
          "execution_count": 171
        }
      ]
    },
    {
      "cell_type": "code",
      "source": [
        "x_test"
      ],
      "metadata": {
        "id": "cdB5PWAZ5nBX",
        "colab": {
          "base_uri": "https://localhost:8080/"
        },
        "outputId": "37d9113b-6825-4cc1-a58d-1e23315a9528"
      },
      "execution_count": null,
      "outputs": [
        {
          "output_type": "execute_result",
          "data": {
            "text/plain": [
              "array([[ 0.92573636,  0.46602687,  0.26053603, ..., -0.76497935,\n",
              "         0.56009786,  1.50008581],\n",
              "       [-0.84682744,  0.9401881 , -0.44931111, ..., -0.75186334,\n",
              "        -0.87067912, -0.95741055],\n",
              "       [ 0.63030906, -0.38746335, -0.44931111, ..., -0.89613942,\n",
              "        -0.78813429, -0.53370428],\n",
              "       ...,\n",
              "       [ 1.22116366,  2.1097858 ,  0.46334951, ...,  2.10742614,\n",
              "        -0.99908218,  0.82215578],\n",
              "       [ 0.33488176,  0.46602687,  0.66616298, ..., -4.17514112,\n",
              "         0.53869735,  3.02542839],\n",
              "       [ 0.03945446, -0.98806757, -3.49151318, ..., -0.50265921,\n",
              "         0.44698088, -0.19473927]])"
            ]
          },
          "metadata": {},
          "execution_count": 172
        }
      ]
    },
    {
      "cell_type": "markdown",
      "source": [
        "# Model Creation"
      ],
      "metadata": {
        "id": "v_zRtNnkRYS2"
      }
    },
    {
      "cell_type": "markdown",
      "source": [
        "**Created model using Gaussian Naive Bayes Algorithm**"
      ],
      "metadata": {
        "id": "ZXdCPlknRKF6"
      }
    },
    {
      "cell_type": "code",
      "source": [
        "from sklearn.naive_bayes import GaussianNB\n",
        "model=GaussianNB()\n",
        "model.fit(x_train,y_train)\n",
        "y_pred=model.predict(x_test)\n",
        "y_pred\n"
      ],
      "metadata": {
        "id": "Wk3KeovT5pZd",
        "colab": {
          "base_uri": "https://localhost:8080/"
        },
        "outputId": "f58eb6de-47d0-4458-f520-d81933906957"
      },
      "execution_count": null,
      "outputs": [
        {
          "output_type": "execute_result",
          "data": {
            "text/plain": [
              "array([0, 0, 0, 0, 0, 0, 0, 0, 0, 0, 1, 0, 1, 1, 0, 1, 0, 0, 0, 0, 0, 0,\n",
              "       1, 0, 0, 0, 0, 1, 0, 0, 0, 0, 0, 1, 0, 1, 0, 0, 0, 1, 0, 0, 0, 1,\n",
              "       0, 0, 1, 1, 0, 0, 0, 0, 1, 0, 1, 0, 1, 0, 1, 0, 1, 0, 1, 0, 1, 0,\n",
              "       0, 0, 1, 1, 1, 1, 0, 0, 1, 0, 1, 0, 0, 1, 1, 0, 0, 0, 0, 1, 1, 1,\n",
              "       0, 0, 1, 0, 0, 0, 1, 0, 0, 0, 1, 0, 0, 1, 1, 0, 0, 0, 0, 1, 0, 0,\n",
              "       0, 0, 0, 0, 0, 0, 0, 0, 0, 1, 0, 1, 0, 1, 0, 0, 0, 0, 1, 0, 1, 0,\n",
              "       1, 0, 0, 0, 0, 1, 0, 0, 1, 0, 0, 1, 1, 1, 0, 0, 0, 0, 0, 1, 0, 0])"
            ]
          },
          "metadata": {},
          "execution_count": 173
        }
      ]
    },
    {
      "cell_type": "markdown",
      "source": [
        "# Performance Evaluation"
      ],
      "metadata": {
        "id": "hCUMV2jORe-D"
      }
    },
    {
      "cell_type": "markdown",
      "source": [
        "**Performance evaluation using confusion_matrix,accuracy_score,and classification report**"
      ],
      "metadata": {
        "id": "u-VnS4A2RpHu"
      }
    },
    {
      "cell_type": "code",
      "source": [
        "from sklearn.metrics import confusion_matrix,accuracy_score,classification_report\n",
        "result=confusion_matrix(y_test,y_pred)"
      ],
      "metadata": {
        "id": "8_FvTgB80F6t"
      },
      "execution_count": null,
      "outputs": []
    },
    {
      "cell_type": "markdown",
      "source": [
        "**Confusion matrix**"
      ],
      "metadata": {
        "id": "jzU74PbaR99k"
      }
    },
    {
      "cell_type": "code",
      "source": [
        "plt.figure(figsize=(5, 5))\n",
        "sns.heatmap(result, annot=True, fmt='d', cmap='Blues')\n",
        "plt.xlabel('y_pred')\n",
        "plt.ylabel('y_test')\n",
        "plt.title('Confusion Matrix')\n",
        "plt.show()\n"
      ],
      "metadata": {
        "colab": {
          "base_uri": "https://localhost:8080/",
          "height": 487
        },
        "id": "NSqRJ6khMbsX",
        "outputId": "99b2678b-8049-40fc-c026-e4ce46c4d561"
      },
      "execution_count": null,
      "outputs": [
        {
          "output_type": "display_data",
          "data": {
            "text/plain": [
              "<Figure size 500x500 with 2 Axes>"
            ],
            "image/png": "[encoded data removed]"
          },
          "metadata": {}
        }
      ]
    },
    {
      "cell_type": "code",
      "source": [
        "score=accuracy_score(y_test,y_pred)\n",
        "print(\"Accuracy Score\")\n",
        "score"
      ],
      "metadata": {
        "id": "cUHPB8qE0ejm",
        "colab": {
          "base_uri": "https://localhost:8080/"
        },
        "outputId": "10fc0380-65f6-4b63-d36e-d483d846b3cf"
      },
      "execution_count": null,
      "outputs": [
        {
          "output_type": "stream",
          "name": "stdout",
          "text": [
            "Accuracy Score\n"
          ]
        },
        {
          "output_type": "execute_result",
          "data": {
            "text/plain": [
              "0.7727272727272727"
            ]
          },
          "metadata": {},
          "execution_count": 176
        }
      ]
    },
    {
      "cell_type": "code",
      "source": [
        "report=classification_report(y_test,y_pred)\n",
        "print(\"Classification Report\")\n",
        "print(report)\n"
      ],
      "metadata": {
        "id": "UgtjMIp-5hm2",
        "colab": {
          "base_uri": "https://localhost:8080/"
        },
        "outputId": "5c62a228-2552-4025-db96-da0f50e73c8d"
      },
      "execution_count": null,
      "outputs": [
        {
          "output_type": "stream",
          "name": "stdout",
          "text": [
            "Classification Report\n",
            "              precision    recall  f1-score   support\n",
            "\n",
            "           0       0.80      0.86      0.83        99\n",
            "           1       0.71      0.62      0.66        55\n",
            "\n",
            "    accuracy                           0.77       154\n",
            "   macro avg       0.76      0.74      0.74       154\n",
            "weighted avg       0.77      0.77      0.77       154\n",
            "\n"
          ]
        }
      ]
    }
  ]
}