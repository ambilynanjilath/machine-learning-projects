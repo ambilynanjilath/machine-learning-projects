{
  "nbformat": 4,
  "nbformat_minor": 0,
  "metadata": {
    "colab": {
      "provenance": []
    },
    "kernelspec": {
      "name": "python3",
      "display_name": "Python 3"
    },
    "language_info": {
      "name": "python"
    }
  },
  "cells": [
    {
      "cell_type": "markdown",
      "source": [
        "<center><h1>Fetal Health Classification</h1></center>\n"
      ],
      "metadata": {
        "id": "B6vVYE8Z_7qc"
      }
    },
    {
      "cell_type": "markdown",
      "source": [
        "# Load the data and create dataframe"
      ],
      "metadata": {
        "id": "a9-AYm1LAITC"
      }
    },
    {
      "cell_type": "code",
      "execution_count": null,
      "metadata": {
        "colab": {
          "base_uri": "https://localhost:8080/"
        },
        "id": "1Lt16FtlrspD",
        "outputId": "0ecd8d5f-0895-48db-ee35-0f4ed1fcc771"
      },
      "outputs": [
        {
          "output_type": "stream",
          "name": "stdout",
          "text": [
            "      baseline value  accelerations  fetal_movement  uterine_contractions  \\\n",
            "0              120.0          0.000           0.000                 0.000   \n",
            "1              132.0          0.006           0.000                 0.006   \n",
            "2              133.0          0.003           0.000                 0.008   \n",
            "3              134.0          0.003           0.000                 0.008   \n",
            "4              132.0          0.007           0.000                 0.008   \n",
            "...              ...            ...             ...                   ...   \n",
            "2121           140.0          0.000           0.000                 0.007   \n",
            "2122           140.0          0.001           0.000                 0.007   \n",
            "2123           140.0          0.001           0.000                 0.007   \n",
            "2124           140.0          0.001           0.000                 0.006   \n",
            "2125           142.0          0.002           0.002                 0.008   \n",
            "\n",
            "      light_decelerations  severe_decelerations  prolongued_decelerations  \\\n",
            "0                   0.000                   0.0                       0.0   \n",
            "1                   0.003                   0.0                       0.0   \n",
            "2                   0.003                   0.0                       0.0   \n",
            "3                   0.003                   0.0                       0.0   \n",
            "4                   0.000                   0.0                       0.0   \n",
            "...                   ...                   ...                       ...   \n",
            "2121                0.000                   0.0                       0.0   \n",
            "2122                0.000                   0.0                       0.0   \n",
            "2123                0.000                   0.0                       0.0   \n",
            "2124                0.000                   0.0                       0.0   \n",
            "2125                0.000                   0.0                       0.0   \n",
            "\n",
            "      abnormal_short_term_variability  mean_value_of_short_term_variability  \\\n",
            "0                                73.0                                   0.5   \n",
            "1                                17.0                                   2.1   \n",
            "2                                16.0                                   2.1   \n",
            "3                                16.0                                   2.4   \n",
            "4                                16.0                                   2.4   \n",
            "...                               ...                                   ...   \n",
            "2121                             79.0                                   0.2   \n",
            "2122                             78.0                                   0.4   \n",
            "2123                             79.0                                   0.4   \n",
            "2124                             78.0                                   0.4   \n",
            "2125                             74.0                                   0.4   \n",
            "\n",
            "      percentage_of_time_with_abnormal_long_term_variability  ...  \\\n",
            "0                                                  43.0       ...   \n",
            "1                                                   0.0       ...   \n",
            "2                                                   0.0       ...   \n",
            "3                                                   0.0       ...   \n",
            "4                                                   0.0       ...   \n",
            "...                                                 ...       ...   \n",
            "2121                                               25.0       ...   \n",
            "2122                                               22.0       ...   \n",
            "2123                                               20.0       ...   \n",
            "2124                                               27.0       ...   \n",
            "2125                                               36.0       ...   \n",
            "\n",
            "      histogram_min  histogram_max  histogram_number_of_peaks  \\\n",
            "0              62.0          126.0                        2.0   \n",
            "1              68.0          198.0                        6.0   \n",
            "2              68.0          198.0                        5.0   \n",
            "3              53.0          170.0                       11.0   \n",
            "4              53.0          170.0                        9.0   \n",
            "...             ...            ...                        ...   \n",
            "2121          137.0          177.0                        4.0   \n",
            "2122          103.0          169.0                        6.0   \n",
            "2123          103.0          170.0                        5.0   \n",
            "2124          103.0          169.0                        6.0   \n",
            "2125          117.0          159.0                        2.0   \n",
            "\n",
            "      histogram_number_of_zeroes  histogram_mode  histogram_mean  \\\n",
            "0                            0.0           120.0           137.0   \n",
            "1                            1.0           141.0           136.0   \n",
            "2                            1.0           141.0           135.0   \n",
            "3                            0.0           137.0           134.0   \n",
            "4                            0.0           137.0           136.0   \n",
            "...                          ...             ...             ...   \n",
            "2121                         0.0           153.0           150.0   \n",
            "2122                         0.0           152.0           148.0   \n",
            "2123                         0.0           153.0           148.0   \n",
            "2124                         0.0           152.0           147.0   \n",
            "2125                         1.0           145.0           143.0   \n",
            "\n",
            "      histogram_median  histogram_variance  histogram_tendency  fetal_health  \n",
            "0                121.0                73.0                 1.0           2.0  \n",
            "1                140.0                12.0                 0.0           1.0  \n",
            "2                138.0                13.0                 0.0           1.0  \n",
            "3                137.0                13.0                 1.0           1.0  \n",
            "4                138.0                11.0                 1.0           1.0  \n",
            "...                ...                 ...                 ...           ...  \n",
            "2121             152.0                 2.0                 0.0           2.0  \n",
            "2122             151.0                 3.0                 1.0           2.0  \n",
            "2123             152.0                 4.0                 1.0           2.0  \n",
            "2124             151.0                 4.0                 1.0           2.0  \n",
            "2125             145.0                 1.0                 0.0           1.0  \n",
            "\n",
            "[2126 rows x 22 columns]\n"
          ]
        }
      ],
      "source": [
        "import numpy as np\n",
        "import pandas as pd\n",
        "df=pd.read_csv('/content/fetal_health.csv')\n",
        "print(df)"
      ]
    },
    {
      "cell_type": "markdown",
      "source": [
        "# Data Preprocessing"
      ],
      "metadata": {
        "id": "bqKY5q4uAXIn"
      }
    },
    {
      "cell_type": "markdown",
      "source": [
        "**Printing the first 5 rows**"
      ],
      "metadata": {
        "id": "UB7H8uGaAby0"
      }
    },
    {
      "cell_type": "code",
      "source": [
        "print(df.head())"
      ],
      "metadata": {
        "colab": {
          "base_uri": "https://localhost:8080/"
        },
        "id": "Z0_g2oiOoQ15",
        "outputId": "edfb8a97-4c18-4a6d-abf8-f891e77409c7"
      },
      "execution_count": null,
      "outputs": [
        {
          "output_type": "stream",
          "name": "stdout",
          "text": [
            "   baseline value  accelerations  fetal_movement  uterine_contractions  \\\n",
            "0           120.0          0.000             0.0                 0.000   \n",
            "1           132.0          0.006             0.0                 0.006   \n",
            "2           133.0          0.003             0.0                 0.008   \n",
            "3           134.0          0.003             0.0                 0.008   \n",
            "4           132.0          0.007             0.0                 0.008   \n",
            "\n",
            "   light_decelerations  severe_decelerations  prolongued_decelerations  \\\n",
            "0                0.000                   0.0                       0.0   \n",
            "1                0.003                   0.0                       0.0   \n",
            "2                0.003                   0.0                       0.0   \n",
            "3                0.003                   0.0                       0.0   \n",
            "4                0.000                   0.0                       0.0   \n",
            "\n",
            "   abnormal_short_term_variability  mean_value_of_short_term_variability  \\\n",
            "0                             73.0                                   0.5   \n",
            "1                             17.0                                   2.1   \n",
            "2                             16.0                                   2.1   \n",
            "3                             16.0                                   2.4   \n",
            "4                             16.0                                   2.4   \n",
            "\n",
            "   percentage_of_time_with_abnormal_long_term_variability  ...  histogram_min  \\\n",
            "0                                               43.0       ...           62.0   \n",
            "1                                                0.0       ...           68.0   \n",
            "2                                                0.0       ...           68.0   \n",
            "3                                                0.0       ...           53.0   \n",
            "4                                                0.0       ...           53.0   \n",
            "\n",
            "   histogram_max  histogram_number_of_peaks  histogram_number_of_zeroes  \\\n",
            "0          126.0                        2.0                         0.0   \n",
            "1          198.0                        6.0                         1.0   \n",
            "2          198.0                        5.0                         1.0   \n",
            "3          170.0                       11.0                         0.0   \n",
            "4          170.0                        9.0                         0.0   \n",
            "\n",
            "   histogram_mode  histogram_mean  histogram_median  histogram_variance  \\\n",
            "0           120.0           137.0             121.0                73.0   \n",
            "1           141.0           136.0             140.0                12.0   \n",
            "2           141.0           135.0             138.0                13.0   \n",
            "3           137.0           134.0             137.0                13.0   \n",
            "4           137.0           136.0             138.0                11.0   \n",
            "\n",
            "   histogram_tendency  fetal_health  \n",
            "0                 1.0           2.0  \n",
            "1                 0.0           1.0  \n",
            "2                 0.0           1.0  \n",
            "3                 1.0           1.0  \n",
            "4                 1.0           1.0  \n",
            "\n",
            "[5 rows x 22 columns]\n"
          ]
        }
      ]
    },
    {
      "cell_type": "markdown",
      "source": [
        "**Printing the last 5 rows**"
      ],
      "metadata": {
        "id": "9P2BqswPAjwR"
      }
    },
    {
      "cell_type": "code",
      "source": [
        "print(df.tail())"
      ],
      "metadata": {
        "colab": {
          "base_uri": "https://localhost:8080/"
        },
        "id": "AubtViNpoUOY",
        "outputId": "89684981-cfaa-4191-9dcb-e56fbe2addc5"
      },
      "execution_count": null,
      "outputs": [
        {
          "output_type": "stream",
          "name": "stdout",
          "text": [
            "      baseline value  accelerations  fetal_movement  uterine_contractions  \\\n",
            "2121           140.0          0.000           0.000                 0.007   \n",
            "2122           140.0          0.001           0.000                 0.007   \n",
            "2123           140.0          0.001           0.000                 0.007   \n",
            "2124           140.0          0.001           0.000                 0.006   \n",
            "2125           142.0          0.002           0.002                 0.008   \n",
            "\n",
            "      light_decelerations  severe_decelerations  prolongued_decelerations  \\\n",
            "2121                  0.0                   0.0                       0.0   \n",
            "2122                  0.0                   0.0                       0.0   \n",
            "2123                  0.0                   0.0                       0.0   \n",
            "2124                  0.0                   0.0                       0.0   \n",
            "2125                  0.0                   0.0                       0.0   \n",
            "\n",
            "      abnormal_short_term_variability  mean_value_of_short_term_variability  \\\n",
            "2121                             79.0                                   0.2   \n",
            "2122                             78.0                                   0.4   \n",
            "2123                             79.0                                   0.4   \n",
            "2124                             78.0                                   0.4   \n",
            "2125                             74.0                                   0.4   \n",
            "\n",
            "      percentage_of_time_with_abnormal_long_term_variability  ...  \\\n",
            "2121                                               25.0       ...   \n",
            "2122                                               22.0       ...   \n",
            "2123                                               20.0       ...   \n",
            "2124                                               27.0       ...   \n",
            "2125                                               36.0       ...   \n",
            "\n",
            "      histogram_min  histogram_max  histogram_number_of_peaks  \\\n",
            "2121          137.0          177.0                        4.0   \n",
            "2122          103.0          169.0                        6.0   \n",
            "2123          103.0          170.0                        5.0   \n",
            "2124          103.0          169.0                        6.0   \n",
            "2125          117.0          159.0                        2.0   \n",
            "\n",
            "      histogram_number_of_zeroes  histogram_mode  histogram_mean  \\\n",
            "2121                         0.0           153.0           150.0   \n",
            "2122                         0.0           152.0           148.0   \n",
            "2123                         0.0           153.0           148.0   \n",
            "2124                         0.0           152.0           147.0   \n",
            "2125                         1.0           145.0           143.0   \n",
            "\n",
            "      histogram_median  histogram_variance  histogram_tendency  fetal_health  \n",
            "2121             152.0                 2.0                 0.0           2.0  \n",
            "2122             151.0                 3.0                 1.0           2.0  \n",
            "2123             152.0                 4.0                 1.0           2.0  \n",
            "2124             151.0                 4.0                 1.0           2.0  \n",
            "2125             145.0                 1.0                 0.0           1.0  \n",
            "\n",
            "[5 rows x 22 columns]\n"
          ]
        }
      ]
    },
    {
      "cell_type": "markdown",
      "source": [
        "**Printing the shape of dataframe**"
      ],
      "metadata": {
        "id": "lPeOlWiVAqsr"
      }
    },
    {
      "cell_type": "code",
      "source": [
        "df.shape"
      ],
      "metadata": {
        "colab": {
          "base_uri": "https://localhost:8080/"
        },
        "id": "UDPqMgxQoX9-",
        "outputId": "b50676f0-992d-4d38-bf07-32db2758cb62"
      },
      "execution_count": null,
      "outputs": [
        {
          "output_type": "execute_result",
          "data": {
            "text/plain": [
              "(2126, 22)"
            ]
          },
          "metadata": {},
          "execution_count": 270
        }
      ]
    },
    {
      "cell_type": "markdown",
      "source": [
        "**Printing datatypes of each column**"
      ],
      "metadata": {
        "id": "hpH4qSSsAwmI"
      }
    },
    {
      "cell_type": "code",
      "source": [
        "df.dtypes"
      ],
      "metadata": {
        "colab": {
          "base_uri": "https://localhost:8080/"
        },
        "id": "KMN6ieZ2r_d_",
        "outputId": "5b31dde3-fb4a-47d0-c4f8-e76759a10690"
      },
      "execution_count": null,
      "outputs": [
        {
          "output_type": "execute_result",
          "data": {
            "text/plain": [
              "baseline value                                            float64\n",
              "accelerations                                             float64\n",
              "fetal_movement                                            float64\n",
              "uterine_contractions                                      float64\n",
              "light_decelerations                                       float64\n",
              "severe_decelerations                                      float64\n",
              "prolongued_decelerations                                  float64\n",
              "abnormal_short_term_variability                           float64\n",
              "mean_value_of_short_term_variability                      float64\n",
              "percentage_of_time_with_abnormal_long_term_variability    float64\n",
              "mean_value_of_long_term_variability                       float64\n",
              "histogram_width                                           float64\n",
              "histogram_min                                             float64\n",
              "histogram_max                                             float64\n",
              "histogram_number_of_peaks                                 float64\n",
              "histogram_number_of_zeroes                                float64\n",
              "histogram_mode                                            float64\n",
              "histogram_mean                                            float64\n",
              "histogram_median                                          float64\n",
              "histogram_variance                                        float64\n",
              "histogram_tendency                                        float64\n",
              "fetal_health                                              float64\n",
              "dtype: object"
            ]
          },
          "metadata": {},
          "execution_count": 271
        }
      ]
    },
    {
      "cell_type": "markdown",
      "source": [
        "**Printing total missing values**"
      ],
      "metadata": {
        "id": "ZMhKbdysA3mp"
      }
    },
    {
      "cell_type": "code",
      "source": [
        "df.isna().sum()"
      ],
      "metadata": {
        "colab": {
          "base_uri": "https://localhost:8080/"
        },
        "id": "lDYczxrcsDFK",
        "outputId": "06faaafe-c281-471e-a002-0d9da1a6399f"
      },
      "execution_count": null,
      "outputs": [
        {
          "output_type": "execute_result",
          "data": {
            "text/plain": [
              "baseline value                                            0\n",
              "accelerations                                             0\n",
              "fetal_movement                                            0\n",
              "uterine_contractions                                      0\n",
              "light_decelerations                                       0\n",
              "severe_decelerations                                      0\n",
              "prolongued_decelerations                                  0\n",
              "abnormal_short_term_variability                           0\n",
              "mean_value_of_short_term_variability                      0\n",
              "percentage_of_time_with_abnormal_long_term_variability    0\n",
              "mean_value_of_long_term_variability                       0\n",
              "histogram_width                                           0\n",
              "histogram_min                                             0\n",
              "histogram_max                                             0\n",
              "histogram_number_of_peaks                                 0\n",
              "histogram_number_of_zeroes                                0\n",
              "histogram_mode                                            0\n",
              "histogram_mean                                            0\n",
              "histogram_median                                          0\n",
              "histogram_variance                                        0\n",
              "histogram_tendency                                        0\n",
              "fetal_health                                              0\n",
              "dtype: int64"
            ]
          },
          "metadata": {},
          "execution_count": 272
        }
      ]
    },
    {
      "cell_type": "markdown",
      "source": [
        "**Describe the data**"
      ],
      "metadata": {
        "id": "TJgB0XpGA_K3"
      }
    },
    {
      "cell_type": "code",
      "source": [
        "print(df.describe())"
      ],
      "metadata": {
        "colab": {
          "base_uri": "https://localhost:8080/"
        },
        "id": "FdLMgZGHof-K",
        "outputId": "73255fa7-d1ca-4626-d636-684cca96d1ff"
      },
      "execution_count": null,
      "outputs": [
        {
          "output_type": "stream",
          "name": "stdout",
          "text": [
            "       baseline value  accelerations  fetal_movement  uterine_contractions  \\\n",
            "count     2126.000000    2126.000000     2126.000000           2126.000000   \n",
            "mean       133.303857       0.003178        0.009481              0.004366   \n",
            "std          9.840844       0.003866        0.046666              0.002946   \n",
            "min        106.000000       0.000000        0.000000              0.000000   \n",
            "25%        126.000000       0.000000        0.000000              0.002000   \n",
            "50%        133.000000       0.002000        0.000000              0.004000   \n",
            "75%        140.000000       0.006000        0.003000              0.007000   \n",
            "max        160.000000       0.019000        0.481000              0.015000   \n",
            "\n",
            "       light_decelerations  severe_decelerations  prolongued_decelerations  \\\n",
            "count          2126.000000           2126.000000               2126.000000   \n",
            "mean              0.001889              0.000003                  0.000159   \n",
            "std               0.002960              0.000057                  0.000590   \n",
            "min               0.000000              0.000000                  0.000000   \n",
            "25%               0.000000              0.000000                  0.000000   \n",
            "50%               0.000000              0.000000                  0.000000   \n",
            "75%               0.003000              0.000000                  0.000000   \n",
            "max               0.015000              0.001000                  0.005000   \n",
            "\n",
            "       abnormal_short_term_variability  mean_value_of_short_term_variability  \\\n",
            "count                      2126.000000                           2126.000000   \n",
            "mean                         46.990122                              1.332785   \n",
            "std                          17.192814                              0.883241   \n",
            "min                          12.000000                              0.200000   \n",
            "25%                          32.000000                              0.700000   \n",
            "50%                          49.000000                              1.200000   \n",
            "75%                          61.000000                              1.700000   \n",
            "max                          87.000000                              7.000000   \n",
            "\n",
            "       percentage_of_time_with_abnormal_long_term_variability  ...  \\\n",
            "count                                         2126.00000       ...   \n",
            "mean                                             9.84666       ...   \n",
            "std                                             18.39688       ...   \n",
            "min                                              0.00000       ...   \n",
            "25%                                              0.00000       ...   \n",
            "50%                                              0.00000       ...   \n",
            "75%                                             11.00000       ...   \n",
            "max                                             91.00000       ...   \n",
            "\n",
            "       histogram_min  histogram_max  histogram_number_of_peaks  \\\n",
            "count    2126.000000    2126.000000                2126.000000   \n",
            "mean       93.579492     164.025400                   4.068203   \n",
            "std        29.560212      17.944183                   2.949386   \n",
            "min        50.000000     122.000000                   0.000000   \n",
            "25%        67.000000     152.000000                   2.000000   \n",
            "50%        93.000000     162.000000                   3.000000   \n",
            "75%       120.000000     174.000000                   6.000000   \n",
            "max       159.000000     238.000000                  18.000000   \n",
            "\n",
            "       histogram_number_of_zeroes  histogram_mode  histogram_mean  \\\n",
            "count                 2126.000000     2126.000000     2126.000000   \n",
            "mean                     0.323612      137.452023      134.610536   \n",
            "std                      0.706059       16.381289       15.593596   \n",
            "min                      0.000000       60.000000       73.000000   \n",
            "25%                      0.000000      129.000000      125.000000   \n",
            "50%                      0.000000      139.000000      136.000000   \n",
            "75%                      0.000000      148.000000      145.000000   \n",
            "max                     10.000000      187.000000      182.000000   \n",
            "\n",
            "       histogram_median  histogram_variance  histogram_tendency  fetal_health  \n",
            "count       2126.000000         2126.000000         2126.000000   2126.000000  \n",
            "mean         138.090310           18.808090            0.320320      1.304327  \n",
            "std           14.466589           28.977636            0.610829      0.614377  \n",
            "min           77.000000            0.000000           -1.000000      1.000000  \n",
            "25%          129.000000            2.000000            0.000000      1.000000  \n",
            "50%          139.000000            7.000000            0.000000      1.000000  \n",
            "75%          148.000000           24.000000            1.000000      1.000000  \n",
            "max          186.000000          269.000000            1.000000      3.000000  \n",
            "\n",
            "[8 rows x 22 columns]\n"
          ]
        }
      ]
    },
    {
      "cell_type": "markdown",
      "source": [
        "**Printing the columns**"
      ],
      "metadata": {
        "id": "Qj3gfc0eBMnL"
      }
    },
    {
      "cell_type": "code",
      "source": [
        "df.columns"
      ],
      "metadata": {
        "colab": {
          "base_uri": "https://localhost:8080/"
        },
        "id": "Ebvls906okHA",
        "outputId": "fe9db992-64b6-4b2b-be39-4411550d82e9"
      },
      "execution_count": null,
      "outputs": [
        {
          "output_type": "execute_result",
          "data": {
            "text/plain": [
              "Index(['baseline value', 'accelerations', 'fetal_movement',\n",
              "       'uterine_contractions', 'light_decelerations', 'severe_decelerations',\n",
              "       'prolongued_decelerations', 'abnormal_short_term_variability',\n",
              "       'mean_value_of_short_term_variability',\n",
              "       'percentage_of_time_with_abnormal_long_term_variability',\n",
              "       'mean_value_of_long_term_variability', 'histogram_width',\n",
              "       'histogram_min', 'histogram_max', 'histogram_number_of_peaks',\n",
              "       'histogram_number_of_zeroes', 'histogram_mode', 'histogram_mean',\n",
              "       'histogram_median', 'histogram_variance', 'histogram_tendency',\n",
              "       'fetal_health'],\n",
              "      dtype='object')"
            ]
          },
          "metadata": {},
          "execution_count": 274
        }
      ]
    },
    {
      "cell_type": "markdown",
      "source": [
        "**Drop unnecessary columns**"
      ],
      "metadata": {
        "id": "NszptBYKBRMC"
      }
    },
    {
      "cell_type": "code",
      "source": [
        "df1=df.drop(['histogram_width','histogram_min','histogram_max','histogram_number_of_peaks','histogram_number_of_zeroes','histogram_mode','histogram_mean','histogram_median','histogram_variance','histogram_tendency'],axis=1)\n",
        "print(df1)"
      ],
      "metadata": {
        "colab": {
          "base_uri": "https://localhost:8080/"
        },
        "id": "646agSFNIy3x",
        "outputId": "52d498ab-479b-4278-a4c4-26bf15f2ae8f"
      },
      "execution_count": null,
      "outputs": [
        {
          "output_type": "stream",
          "name": "stdout",
          "text": [
            "      baseline value  accelerations  fetal_movement  uterine_contractions  \\\n",
            "0              120.0          0.000           0.000                 0.000   \n",
            "1              132.0          0.006           0.000                 0.006   \n",
            "2              133.0          0.003           0.000                 0.008   \n",
            "3              134.0          0.003           0.000                 0.008   \n",
            "4              132.0          0.007           0.000                 0.008   \n",
            "...              ...            ...             ...                   ...   \n",
            "2121           140.0          0.000           0.000                 0.007   \n",
            "2122           140.0          0.001           0.000                 0.007   \n",
            "2123           140.0          0.001           0.000                 0.007   \n",
            "2124           140.0          0.001           0.000                 0.006   \n",
            "2125           142.0          0.002           0.002                 0.008   \n",
            "\n",
            "      light_decelerations  severe_decelerations  prolongued_decelerations  \\\n",
            "0                   0.000                   0.0                       0.0   \n",
            "1                   0.003                   0.0                       0.0   \n",
            "2                   0.003                   0.0                       0.0   \n",
            "3                   0.003                   0.0                       0.0   \n",
            "4                   0.000                   0.0                       0.0   \n",
            "...                   ...                   ...                       ...   \n",
            "2121                0.000                   0.0                       0.0   \n",
            "2122                0.000                   0.0                       0.0   \n",
            "2123                0.000                   0.0                       0.0   \n",
            "2124                0.000                   0.0                       0.0   \n",
            "2125                0.000                   0.0                       0.0   \n",
            "\n",
            "      abnormal_short_term_variability  mean_value_of_short_term_variability  \\\n",
            "0                                73.0                                   0.5   \n",
            "1                                17.0                                   2.1   \n",
            "2                                16.0                                   2.1   \n",
            "3                                16.0                                   2.4   \n",
            "4                                16.0                                   2.4   \n",
            "...                               ...                                   ...   \n",
            "2121                             79.0                                   0.2   \n",
            "2122                             78.0                                   0.4   \n",
            "2123                             79.0                                   0.4   \n",
            "2124                             78.0                                   0.4   \n",
            "2125                             74.0                                   0.4   \n",
            "\n",
            "      percentage_of_time_with_abnormal_long_term_variability  \\\n",
            "0                                                  43.0        \n",
            "1                                                   0.0        \n",
            "2                                                   0.0        \n",
            "3                                                   0.0        \n",
            "4                                                   0.0        \n",
            "...                                                 ...        \n",
            "2121                                               25.0        \n",
            "2122                                               22.0        \n",
            "2123                                               20.0        \n",
            "2124                                               27.0        \n",
            "2125                                               36.0        \n",
            "\n",
            "      mean_value_of_long_term_variability  fetal_health  \n",
            "0                                     2.4           2.0  \n",
            "1                                    10.4           1.0  \n",
            "2                                    13.4           1.0  \n",
            "3                                    23.0           1.0  \n",
            "4                                    19.9           1.0  \n",
            "...                                   ...           ...  \n",
            "2121                                  7.2           2.0  \n",
            "2122                                  7.1           2.0  \n",
            "2123                                  6.1           2.0  \n",
            "2124                                  7.0           2.0  \n",
            "2125                                  5.0           1.0  \n",
            "\n",
            "[2126 rows x 12 columns]\n"
          ]
        }
      ]
    },
    {
      "cell_type": "markdown",
      "source": [
        "**Count of class label**"
      ],
      "metadata": {
        "id": "YNsDbZ72Bb6l"
      }
    },
    {
      "cell_type": "markdown",
      "source": [
        "1-Normal,2-Suspect,3-Pathological"
      ],
      "metadata": {
        "id": "_owkPHoiBwbF"
      }
    },
    {
      "cell_type": "code",
      "source": [
        "df2=df['fetal_health'].value_counts()\n",
        "df2"
      ],
      "metadata": {
        "id": "ag367-U5xBZf",
        "colab": {
          "base_uri": "https://localhost:8080/"
        },
        "outputId": "d28950ed-f306-443a-d431-d0c311b7b6d9"
      },
      "execution_count": null,
      "outputs": [
        {
          "output_type": "execute_result",
          "data": {
            "text/plain": [
              "1.0    1655\n",
              "2.0     295\n",
              "3.0     176\n",
              "Name: fetal_health, dtype: int64"
            ]
          },
          "metadata": {},
          "execution_count": 276
        }
      ]
    },
    {
      "cell_type": "markdown",
      "source": [
        "**Bar plot of Class Distribution**"
      ],
      "metadata": {
        "id": "X6xtreJZBg9l"
      }
    },
    {
      "cell_type": "code",
      "source": [
        "import matplotlib.pyplot as plt\n",
        "plt.figure()\n",
        "df2.plot(kind='bar', rot=0)\n",
        "plt.xlabel(\"Fetal Health\")\n",
        "plt.ylabel(\"Count\")\n",
        "plt.title(\"Class Distribution\")\n",
        "plt.show()"
      ],
      "metadata": {
        "colab": {
          "base_uri": "https://localhost:8080/",
          "height": 472
        },
        "id": "mh-zIH9c2TkQ",
        "outputId": "98cc7df7-8064-4e7d-d41c-9e50711563df"
      },
      "execution_count": null,
      "outputs": [
        {
          "output_type": "display_data",
          "data": {
            "text/plain": [
              "<Figure size 640x480 with 1 Axes>"
            ],
            "image/png": "[encoded data removed]"
          },
          "metadata": {}
        }
      ]
    },
    {
      "cell_type": "markdown",
      "source": [
        "**Printing the columns of new dataframe**"
      ],
      "metadata": {
        "id": "ACmAWAQFCfz-"
      }
    },
    {
      "cell_type": "code",
      "source": [
        "df1.columns"
      ],
      "metadata": {
        "colab": {
          "base_uri": "https://localhost:8080/"
        },
        "id": "WPKXmYlILCij",
        "outputId": "5b5a9c18-8f11-4d79-a263-e1bb494c6647"
      },
      "execution_count": null,
      "outputs": [
        {
          "output_type": "execute_result",
          "data": {
            "text/plain": [
              "Index(['baseline value', 'accelerations', 'fetal_movement',\n",
              "       'uterine_contractions', 'light_decelerations', 'severe_decelerations',\n",
              "       'prolongued_decelerations', 'abnormal_short_term_variability',\n",
              "       'mean_value_of_short_term_variability',\n",
              "       'percentage_of_time_with_abnormal_long_term_variability',\n",
              "       'mean_value_of_long_term_variability', 'fetal_health'],\n",
              "      dtype='object')"
            ]
          },
          "metadata": {},
          "execution_count": 278
        }
      ]
    },
    {
      "cell_type": "markdown",
      "source": [
        "**Seperate x as input feature**"
      ],
      "metadata": {
        "id": "F3HbN33dCme4"
      }
    },
    {
      "cell_type": "code",
      "source": [
        "x=df.iloc[:,:-1].values\n",
        "x"
      ],
      "metadata": {
        "colab": {
          "base_uri": "https://localhost:8080/"
        },
        "id": "BCizdGersI0L",
        "outputId": "c66a486e-2fc0-4fdf-cd78-9bf0120ef12d"
      },
      "execution_count": null,
      "outputs": [
        {
          "output_type": "execute_result",
          "data": {
            "text/plain": [
              "array([[1.20e+02, 0.00e+00, 0.00e+00, ..., 1.21e+02, 7.30e+01, 1.00e+00],\n",
              "       [1.32e+02, 6.00e-03, 0.00e+00, ..., 1.40e+02, 1.20e+01, 0.00e+00],\n",
              "       [1.33e+02, 3.00e-03, 0.00e+00, ..., 1.38e+02, 1.30e+01, 0.00e+00],\n",
              "       ...,\n",
              "       [1.40e+02, 1.00e-03, 0.00e+00, ..., 1.52e+02, 4.00e+00, 1.00e+00],\n",
              "       [1.40e+02, 1.00e-03, 0.00e+00, ..., 1.51e+02, 4.00e+00, 1.00e+00],\n",
              "       [1.42e+02, 2.00e-03, 2.00e-03, ..., 1.45e+02, 1.00e+00, 0.00e+00]])"
            ]
          },
          "metadata": {},
          "execution_count": 279
        }
      ]
    },
    {
      "cell_type": "markdown",
      "source": [
        "**y as class label**"
      ],
      "metadata": {
        "id": "Eh_s0oHNCrxk"
      }
    },
    {
      "cell_type": "code",
      "source": [
        "y=df.iloc[:,-1].values\n",
        "y"
      ],
      "metadata": {
        "colab": {
          "base_uri": "https://localhost:8080/"
        },
        "id": "M-p4MGWJsQi8",
        "outputId": "a8a0145b-7ae9-49d8-ebdb-67e8e2d05914"
      },
      "execution_count": null,
      "outputs": [
        {
          "output_type": "execute_result",
          "data": {
            "text/plain": [
              "array([2., 1., 1., ..., 2., 2., 1.])"
            ]
          },
          "metadata": {},
          "execution_count": 280
        }
      ]
    },
    {
      "cell_type": "markdown",
      "source": [
        "**Split the data into training and testing**"
      ],
      "metadata": {
        "id": "3mh9X8GLCvfj"
      }
    },
    {
      "cell_type": "code",
      "source": [
        "from sklearn.model_selection import train_test_split\n",
        "x_train,x_test,y_train,y_test=train_test_split(x,y,test_size=0.20,random_state=42)\n"
      ],
      "metadata": {
        "id": "aK8I9QNLsd1y"
      },
      "execution_count": null,
      "outputs": []
    },
    {
      "cell_type": "code",
      "source": [
        "x_train"
      ],
      "metadata": {
        "colab": {
          "base_uri": "https://localhost:8080/"
        },
        "id": "MMnST3IUoueI",
        "outputId": "7da91d0e-6b99-436a-9e23-e9424388b59e"
      },
      "execution_count": null,
      "outputs": [
        {
          "output_type": "execute_result",
          "data": {
            "text/plain": [
              "array([[1.25e+02, 0.00e+00, 0.00e+00, ..., 1.27e+02, 2.00e+00, 0.00e+00],\n",
              "       [1.40e+02, 0.00e+00, 0.00e+00, ..., 1.42e+02, 3.00e+00, 0.00e+00],\n",
              "       [1.22e+02, 0.00e+00, 0.00e+00, ..., 1.21e+02, 3.00e+00, 0.00e+00],\n",
              "       ...,\n",
              "       [1.22e+02, 5.00e-03, 0.00e+00, ..., 1.26e+02, 3.10e+01, 0.00e+00],\n",
              "       [1.15e+02, 3.00e-03, 0.00e+00, ..., 1.29e+02, 4.50e+01, 0.00e+00],\n",
              "       [1.42e+02, 1.00e-03, 0.00e+00, ..., 1.49e+02, 4.00e+00, 1.00e+00]])"
            ]
          },
          "metadata": {},
          "execution_count": 282
        }
      ]
    },
    {
      "cell_type": "code",
      "source": [
        "x_test"
      ],
      "metadata": {
        "colab": {
          "base_uri": "https://localhost:8080/"
        },
        "id": "hxClcR_soyTZ",
        "outputId": "4ff1758e-62c6-493e-dad0-12e455c25b83"
      },
      "execution_count": null,
      "outputs": [
        {
          "output_type": "execute_result",
          "data": {
            "text/plain": [
              "array([[1.33e+02, 2.00e-03, 1.00e-02, ..., 1.38e+02, 9.00e+00, 0.00e+00],\n",
              "       [1.25e+02, 0.00e+00, 1.00e-03, ..., 1.25e+02, 2.90e+01, 1.00e+00],\n",
              "       [1.31e+02, 4.00e-03, 3.00e-03, ..., 1.32e+02, 2.10e+01, 0.00e+00],\n",
              "       ...,\n",
              "       [1.44e+02, 6.00e-03, 5.00e-03, ..., 1.51e+02, 1.00e+01, 1.00e+00],\n",
              "       [1.36e+02, 0.00e+00, 3.00e-03, ..., 1.36e+02, 2.00e+00, 1.00e+00],\n",
              "       [1.44e+02, 2.00e-03, 0.00e+00, ..., 1.62e+02, 4.00e+00, 0.00e+00]])"
            ]
          },
          "metadata": {},
          "execution_count": 283
        }
      ]
    },
    {
      "cell_type": "code",
      "source": [
        "y_train"
      ],
      "metadata": {
        "colab": {
          "base_uri": "https://localhost:8080/"
        },
        "id": "JJItlZUIo2f2",
        "outputId": "9f2c7903-6c11-403b-f8be-4d2047be87a0"
      },
      "execution_count": null,
      "outputs": [
        {
          "output_type": "execute_result",
          "data": {
            "text/plain": [
              "array([1., 2., 1., ..., 1., 1., 1.])"
            ]
          },
          "metadata": {},
          "execution_count": 284
        }
      ]
    },
    {
      "cell_type": "code",
      "source": [
        "y_test"
      ],
      "metadata": {
        "colab": {
          "base_uri": "https://localhost:8080/"
        },
        "id": "NVc4pdBso5_c",
        "outputId": "1fdd0ce4-c319-4218-d8d4-24fa4b4be818"
      },
      "execution_count": null,
      "outputs": [
        {
          "output_type": "execute_result",
          "data": {
            "text/plain": [
              "array([1., 1., 1., 1., 1., 3., 1., 3., 1., 2., 1., 3., 1., 1., 1., 1., 1.,\n",
              "       1., 2., 1., 1., 1., 3., 1., 1., 3., 3., 1., 1., 1., 1., 1., 1., 2.,\n",
              "       1., 1., 1., 3., 2., 2., 1., 2., 1., 1., 1., 1., 1., 3., 1., 1., 1.,\n",
              "       1., 2., 2., 2., 1., 1., 1., 2., 1., 2., 1., 1., 1., 1., 1., 2., 1.,\n",
              "       1., 1., 1., 1., 1., 1., 1., 2., 1., 1., 1., 1., 1., 1., 1., 1., 1.,\n",
              "       1., 1., 1., 1., 1., 1., 1., 1., 2., 2., 1., 1., 3., 2., 1., 2., 1.,\n",
              "       1., 1., 1., 2., 1., 1., 3., 1., 2., 2., 1., 2., 1., 3., 1., 1., 2.,\n",
              "       1., 1., 2., 1., 1., 3., 3., 3., 1., 1., 1., 3., 1., 1., 1., 1., 1.,\n",
              "       1., 1., 1., 2., 2., 1., 1., 1., 3., 1., 1., 1., 1., 1., 1., 1., 2.,\n",
              "       1., 1., 1., 2., 1., 1., 1., 1., 1., 1., 2., 1., 1., 1., 1., 2., 1.,\n",
              "       1., 2., 1., 1., 1., 1., 1., 1., 1., 1., 1., 1., 1., 1., 3., 1., 1.,\n",
              "       1., 3., 2., 1., 1., 1., 2., 1., 2., 1., 1., 1., 2., 1., 1., 1., 2.,\n",
              "       1., 1., 2., 1., 1., 1., 1., 1., 1., 1., 1., 1., 1., 1., 1., 1., 1.,\n",
              "       2., 1., 1., 1., 1., 2., 1., 1., 1., 2., 1., 1., 1., 2., 2., 1., 1.,\n",
              "       1., 1., 1., 1., 1., 1., 1., 3., 1., 1., 3., 1., 1., 1., 1., 1., 1.,\n",
              "       1., 1., 1., 1., 2., 2., 2., 1., 1., 2., 1., 1., 1., 1., 1., 1., 1.,\n",
              "       2., 1., 1., 1., 1., 1., 1., 1., 2., 1., 1., 1., 1., 1., 1., 1., 1.,\n",
              "       1., 1., 1., 1., 1., 1., 1., 1., 1., 1., 1., 1., 1., 1., 1., 3., 1.,\n",
              "       1., 1., 1., 1., 1., 1., 1., 1., 2., 3., 1., 3., 1., 1., 1., 1., 1.,\n",
              "       1., 1., 2., 1., 1., 2., 1., 1., 1., 1., 1., 1., 2., 1., 1., 1., 1.,\n",
              "       1., 2., 3., 3., 1., 1., 1., 3., 2., 1., 1., 1., 1., 2., 1., 1., 1.,\n",
              "       1., 1., 1., 1., 1., 1., 1., 1., 1., 2., 2., 1., 1., 1., 1., 1., 1.,\n",
              "       1., 3., 1., 1., 1., 3., 1., 1., 1., 1., 1., 1., 2., 1., 2., 1., 1.,\n",
              "       1., 1., 1., 1., 2., 1., 1., 1., 1., 1., 1., 1., 3., 1., 1., 2., 1.,\n",
              "       1., 1., 2., 1., 1., 1., 1., 1., 1., 2., 1., 1., 1., 2., 1., 1., 1.,\n",
              "       2.])"
            ]
          },
          "metadata": {},
          "execution_count": 285
        }
      ]
    },
    {
      "cell_type": "markdown",
      "source": [
        "**Normalize the data using StandardScalar**"
      ],
      "metadata": {
        "id": "D58BTGvBC3nA"
      }
    },
    {
      "cell_type": "code",
      "source": [
        "from sklearn.preprocessing import StandardScaler\n",
        "scalar=StandardScaler()\n",
        "scalar.fit(x_train)\n",
        "x_train=scalar.transform(x_train)\n",
        "x_test=scalar.transform(x_test)\n"
      ],
      "metadata": {
        "id": "TBOBNGtPtEu6"
      },
      "execution_count": null,
      "outputs": []
    },
    {
      "cell_type": "code",
      "source": [
        "x_train"
      ],
      "metadata": {
        "colab": {
          "base_uri": "https://localhost:8080/"
        },
        "id": "42aW0LtXo_tO",
        "outputId": "8870d13a-0bbb-4469-d9aa-c8b2b50d7887"
      },
      "execution_count": null,
      "outputs": [
        {
          "output_type": "execute_result",
          "data": {
            "text/plain": [
              "array([[-0.81890715, -0.82497568, -0.20426125, ..., -0.74290279,\n",
              "        -0.58051372, -0.51669716],\n",
              "       [ 0.69242905, -0.82497568, -0.20426125, ...,  0.28143057,\n",
              "        -0.54596417, -0.51669716],\n",
              "       [-1.12117438, -0.82497568, -0.20426125, ..., -1.15263613,\n",
              "        -0.54596417, -0.51669716],\n",
              "       ...,\n",
              "       [-1.12117438,  0.46404882, -0.20426125, ..., -0.81119168,\n",
              "         0.42142321, -0.51669716],\n",
              "       [-1.82646461, -0.05156098, -0.20426125, ..., -0.60632501,\n",
              "         0.9051169 , -0.51669716],\n",
              "       [ 0.89394054, -0.56717078, -0.20426125, ...,  0.7594528 ,\n",
              "        -0.51141462,  1.11902941]])"
            ]
          },
          "metadata": {},
          "execution_count": 287
        }
      ]
    },
    {
      "cell_type": "code",
      "source": [
        "x_test"
      ],
      "metadata": {
        "colab": {
          "base_uri": "https://localhost:8080/"
        },
        "id": "K8_mbDzKpDK9",
        "outputId": "d7e782a6-6f64-41a4-9cdc-e8bd3b826688"
      },
      "execution_count": null,
      "outputs": [
        {
          "output_type": "execute_result",
          "data": {
            "text/plain": [
              "array([[-0.01286117, -0.30936588,  0.00273972, ...,  0.00827501,\n",
              "        -0.33866688, -0.51669716],\n",
              "       [-0.81890715, -0.82497568, -0.18356116, ..., -0.87948057,\n",
              "         0.35232411,  1.11902941],\n",
              "       [-0.21437267,  0.20624392, -0.14216096, ..., -0.40145834,\n",
              "         0.07592772, -0.51669716],\n",
              "       ...,\n",
              "       [ 1.09545203,  0.72185372, -0.10076077, ...,  0.89603058,\n",
              "        -0.30411733,  1.11902941],\n",
              "       [ 0.28940606, -0.82497568, -0.14216096, ..., -0.12830277,\n",
              "        -0.58051372,  1.11902941],\n",
              "       [ 1.09545203, -0.30936588, -0.20426125, ...,  1.64720838,\n",
              "        -0.51141462, -0.51669716]])"
            ]
          },
          "metadata": {},
          "execution_count": 288
        }
      ]
    },
    {
      "cell_type": "markdown",
      "source": [
        "# Model Creation"
      ],
      "metadata": {
        "id": "P4L4nH1wDipB"
      }
    },
    {
      "cell_type": "markdown",
      "source": [
        "**GridSearchCV applied for hyperparameter tuning**"
      ],
      "metadata": {
        "id": "Kohh1GFHDD00"
      }
    },
    {
      "cell_type": "code",
      "source": [
        "from sklearn.neighbors import KNeighborsClassifier\n",
        "from sklearn.model_selection import GridSearchCV\n",
        "knn=KNeighborsClassifier()\n",
        "metre={'n_neighbors':[3,5,7,9],'weights':['uniform','distance']}\n",
        "gsv=GridSearchCV(knn,metre,cv=5,scoring='accuracy')\n",
        "\n",
        "\n",
        "gsv.fit(x_train,y_train)\n"
      ],
      "metadata": {
        "id": "MiER9UAwtvI6",
        "colab": {
          "base_uri": "https://localhost:8080/",
          "height": 118
        },
        "outputId": "462eb9af-67a8-4320-8bec-693b714282af"
      },
      "execution_count": null,
      "outputs": [
        {
          "output_type": "execute_result",
          "data": {
            "text/plain": [
              "GridSearchCV(cv=5, estimator=KNeighborsClassifier(),\n",
              "             param_grid={'n_neighbors': [3, 5, 7, 9],\n",
              "                         'weights': ['uniform', 'distance']},\n",
              "             scoring='accuracy')"
            ],
            "text/html": [
              "<style>#sk-container-id-6 {color: black;background-color: white;}#sk-container-id-6 pre{padding: 0;}#sk-container-id-6 div.sk-toggleable {background-color: white;}#sk-container-id-6 label.sk-toggleable__label {cursor: pointer;display: block;width: 100%;margin-bottom: 0;padding: 0.3em;box-sizing: border-box;text-align: center;}#sk-container-id-6 label.sk-toggleable__label-arrow:before {content: \"▸\";float: left;margin-right: 0.25em;color: #696969;}#sk-container-id-6 label.sk-toggleable__label-arrow:hover:before {color: black;}#sk-container-id-6 div.sk-estimator:hover label.sk-toggleable__label-arrow:before {color: black;}#sk-container-id-6 div.sk-toggleable__content {max-height: 0;max-width: 0;overflow: hidden;text-align: left;background-color: #f0f8ff;}#sk-container-id-6 div.sk-toggleable__content pre {margin: 0.2em;color: black;border-radius: 0.25em;background-color: #f0f8ff;}#sk-container-id-6 input.sk-toggleable__control:checked~div.sk-toggleable__content {max-height: 200px;max-width: 100%;overflow: auto;}#sk-container-id-6 input.sk-toggleable__control:checked~label.sk-toggleable__label-arrow:before {content: \"▾\";}#sk-container-id-6 div.sk-estimator input.sk-toggleable__control:checked~label.sk-toggleable__label {background-color: #d4ebff;}#sk-container-id-6 div.sk-label input.sk-toggleable__control:checked~label.sk-toggleable__label {background-color: #d4ebff;}#sk-container-id-6 input.sk-hidden--visually {border: 0;clip: rect(1px 1px 1px 1px);clip: rect(1px, 1px, 1px, 1px);height: 1px;margin: -1px;overflow: hidden;padding: 0;position: absolute;width: 1px;}#sk-container-id-6 div.sk-estimator {font-family: monospace;background-color: #f0f8ff;border: 1px dotted black;border-radius: 0.25em;box-sizing: border-box;margin-bottom: 0.5em;}#sk-container-id-6 div.sk-estimator:hover {background-color: #d4ebff;}#sk-container-id-6 div.sk-parallel-item::after {content: \"\";width: 100%;border-bottom: 1px solid gray;flex-grow: 1;}#sk-container-id-6 div.sk-label:hover label.sk-toggleable__label {background-color: #d4ebff;}#sk-container-id-6 div.sk-serial::before {content: \"\";position: absolute;border-left: 1px solid gray;box-sizing: border-box;top: 0;bottom: 0;left: 50%;z-index: 0;}#sk-container-id-6 div.sk-serial {display: flex;flex-direction: column;align-items: center;background-color: white;padding-right: 0.2em;padding-left: 0.2em;position: relative;}#sk-container-id-6 div.sk-item {position: relative;z-index: 1;}#sk-container-id-6 div.sk-parallel {display: flex;align-items: stretch;justify-content: center;background-color: white;position: relative;}#sk-container-id-6 div.sk-item::before, #sk-container-id-6 div.sk-parallel-item::before {content: \"\";position: absolute;border-left: 1px solid gray;box-sizing: border-box;top: 0;bottom: 0;left: 50%;z-index: -1;}#sk-container-id-6 div.sk-parallel-item {display: flex;flex-direction: column;z-index: 1;position: relative;background-color: white;}#sk-container-id-6 div.sk-parallel-item:first-child::after {align-self: flex-end;width: 50%;}#sk-container-id-6 div.sk-parallel-item:last-child::after {align-self: flex-start;width: 50%;}#sk-container-id-6 div.sk-parallel-item:only-child::after {width: 0;}#sk-container-id-6 div.sk-dashed-wrapped {border: 1px dashed gray;margin: 0 0.4em 0.5em 0.4em;box-sizing: border-box;padding-bottom: 0.4em;background-color: white;}#sk-container-id-6 div.sk-label label {font-family: monospace;font-weight: bold;display: inline-block;line-height: 1.2em;}#sk-container-id-6 div.sk-label-container {text-align: center;}#sk-container-id-6 div.sk-container {/* jupyter's `normalize.less` sets `[hidden] { display: none; }` but bootstrap.min.css set `[hidden] { display: none !important; }` so we also need the `!important` here to be able to override the default hidden behavior on the sphinx rendered scikit-learn.org. See: https://github.com/scikit-learn/scikit-learn/issues/21755 */display: inline-block !important;position: relative;}#sk-container-id-6 div.sk-text-repr-fallback {display: none;}</style><div id=\"sk-container-id-6\" class=\"sk-top-container\"><div class=\"sk-text-repr-fallback\"><pre>GridSearchCV(cv=5, estimator=KNeighborsClassifier(),\n",
              "             param_grid={&#x27;n_neighbors&#x27;: [3, 5, 7, 9],\n",
              "                         &#x27;weights&#x27;: [&#x27;uniform&#x27;, &#x27;distance&#x27;]},\n",
              "             scoring=&#x27;accuracy&#x27;)</pre><b>In a Jupyter environment, please rerun this cell to show the HTML representation or trust the notebook. <br />On GitHub, the HTML representation is unable to render, please try loading this page with nbviewer.org.</b></div><div class=\"sk-container\" hidden><div class=\"sk-item sk-dashed-wrapped\"><div class=\"sk-label-container\"><div class=\"sk-label sk-toggleable\"><input class=\"sk-toggleable__control sk-hidden--visually\" id=\"sk-estimator-id-16\" type=\"checkbox\" ><label for=\"sk-estimator-id-16\" class=\"sk-toggleable__label sk-toggleable__label-arrow\">GridSearchCV</label><div class=\"sk-toggleable__content\"><pre>GridSearchCV(cv=5, estimator=KNeighborsClassifier(),\n",
              "             param_grid={&#x27;n_neighbors&#x27;: [3, 5, 7, 9],\n",
              "                         &#x27;weights&#x27;: [&#x27;uniform&#x27;, &#x27;distance&#x27;]},\n",
              "             scoring=&#x27;accuracy&#x27;)</pre></div></div></div><div class=\"sk-parallel\"><div class=\"sk-parallel-item\"><div class=\"sk-item\"><div class=\"sk-label-container\"><div class=\"sk-label sk-toggleable\"><input class=\"sk-toggleable__control sk-hidden--visually\" id=\"sk-estimator-id-17\" type=\"checkbox\" ><label for=\"sk-estimator-id-17\" class=\"sk-toggleable__label sk-toggleable__label-arrow\">estimator: KNeighborsClassifier</label><div class=\"sk-toggleable__content\"><pre>KNeighborsClassifier()</pre></div></div></div><div class=\"sk-serial\"><div class=\"sk-item\"><div class=\"sk-estimator sk-toggleable\"><input class=\"sk-toggleable__control sk-hidden--visually\" id=\"sk-estimator-id-18\" type=\"checkbox\" ><label for=\"sk-estimator-id-18\" class=\"sk-toggleable__label sk-toggleable__label-arrow\">KNeighborsClassifier</label><div class=\"sk-toggleable__content\"><pre>KNeighborsClassifier()</pre></div></div></div></div></div></div></div></div></div></div>"
            ]
          },
          "metadata": {},
          "execution_count": 289
        }
      ]
    },
    {
      "cell_type": "code",
      "source": [
        "print(gsv.best_params_)"
      ],
      "metadata": {
        "colab": {
          "base_uri": "https://localhost:8080/"
        },
        "id": "ceVmYChqwC7o",
        "outputId": "ef70847d-446a-43ad-bbc8-39831195d437"
      },
      "execution_count": null,
      "outputs": [
        {
          "output_type": "stream",
          "name": "stdout",
          "text": [
            "{'n_neighbors': 5, 'weights': 'distance'}\n"
          ]
        }
      ]
    },
    {
      "cell_type": "markdown",
      "source": [
        "**Created model using knearest neighbors algorithm**"
      ],
      "metadata": {
        "id": "g0fufnbKDfSk"
      }
    },
    {
      "cell_type": "code",
      "source": [
        "knn1=KNeighborsClassifier(n_neighbors=5,weights='distance',p=2)\n",
        "knn1.fit(x_train,y_train)\n",
        "y_pred=knn1.predict(x_test)"
      ],
      "metadata": {
        "id": "7Q0QCQzcwQoR"
      },
      "execution_count": null,
      "outputs": []
    },
    {
      "cell_type": "code",
      "source": [
        "y_pred"
      ],
      "metadata": {
        "colab": {
          "base_uri": "https://localhost:8080/"
        },
        "id": "2Ug0Plc2pHMR",
        "outputId": "f9831dba-ec1b-4090-bf3d-5889d37f8083"
      },
      "execution_count": null,
      "outputs": [
        {
          "output_type": "execute_result",
          "data": {
            "text/plain": [
              "array([1., 1., 1., 1., 1., 3., 1., 3., 2., 2., 1., 3., 1., 1., 1., 2., 1.,\n",
              "       1., 1., 1., 1., 1., 3., 1., 1., 3., 3., 1., 1., 1., 1., 1., 1., 2.,\n",
              "       1., 1., 1., 3., 2., 2., 1., 2., 1., 1., 1., 1., 1., 3., 1., 1., 1.,\n",
              "       1., 1., 2., 2., 1., 1., 1., 2., 1., 2., 1., 2., 1., 1., 1., 2., 1.,\n",
              "       1., 1., 1., 1., 1., 1., 1., 2., 1., 1., 1., 1., 1., 1., 1., 1., 1.,\n",
              "       1., 1., 1., 1., 1., 1., 1., 1., 2., 2., 1., 1., 3., 2., 1., 2., 1.,\n",
              "       1., 1., 1., 2., 1., 1., 3., 1., 2., 2., 1., 2., 1., 3., 1., 1., 2.,\n",
              "       1., 1., 1., 1., 1., 3., 3., 3., 1., 1., 1., 3., 1., 1., 1., 1., 1.,\n",
              "       1., 1., 2., 2., 2., 1., 1., 1., 3., 1., 1., 1., 1., 1., 1., 1., 2.,\n",
              "       1., 1., 1., 1., 1., 1., 1., 1., 1., 1., 2., 1., 2., 2., 1., 2., 1.,\n",
              "       1., 1., 1., 1., 1., 1., 1., 1., 1., 1., 1., 1., 1., 1., 1., 1., 1.,\n",
              "       1., 3., 2., 1., 1., 1., 3., 1., 1., 1., 1., 1., 1., 1., 1., 1., 2.,\n",
              "       1., 1., 1., 1., 1., 1., 1., 1., 1., 1., 1., 1., 1., 1., 1., 1., 3.,\n",
              "       2., 1., 1., 1., 1., 1., 1., 1., 1., 2., 1., 1., 1., 1., 1., 1., 1.,\n",
              "       1., 1., 1., 1., 1., 1., 1., 3., 1., 1., 3., 1., 1., 1., 1., 1., 1.,\n",
              "       1., 1., 1., 1., 1., 2., 2., 1., 1., 2., 1., 1., 1., 1., 1., 1., 1.,\n",
              "       2., 1., 1., 1., 1., 1., 1., 1., 2., 1., 1., 1., 1., 1., 1., 1., 1.,\n",
              "       1., 1., 1., 1., 1., 1., 1., 1., 1., 1., 1., 1., 1., 1., 1., 3., 1.,\n",
              "       1., 1., 1., 1., 1., 1., 1., 1., 2., 1., 1., 3., 1., 1., 1., 1., 1.,\n",
              "       1., 2., 1., 1., 1., 2., 1., 1., 1., 1., 1., 1., 2., 1., 1., 1., 1.,\n",
              "       1., 2., 3., 3., 1., 1., 1., 1., 2., 1., 1., 1., 1., 2., 1., 1., 1.,\n",
              "       1., 1., 1., 1., 1., 1., 1., 1., 1., 1., 2., 1., 1., 1., 1., 1., 1.,\n",
              "       1., 2., 1., 1., 1., 3., 1., 1., 1., 1., 1., 1., 2., 1., 2., 1., 1.,\n",
              "       1., 1., 1., 1., 2., 1., 1., 1., 1., 1., 1., 2., 3., 1., 1., 3., 1.,\n",
              "       1., 1., 2., 1., 1., 1., 1., 1., 1., 2., 1., 1., 1., 2., 1., 1., 1.,\n",
              "       1.])"
            ]
          },
          "metadata": {},
          "execution_count": 293
        }
      ]
    },
    {
      "cell_type": "markdown",
      "source": [
        "# Performance Evaluation"
      ],
      "metadata": {
        "id": "WwGwxXU8D3OH"
      }
    },
    {
      "cell_type": "code",
      "source": [
        "from sklearn.metrics import confusion_matrix,accuracy_score,classification_report\n",
        "result=confusion_matrix(y_test,y_pred)\n",
        "score=accuracy_score(y_test,y_pred)\n",
        "report=classification_report(y_test,y_pred)"
      ],
      "metadata": {
        "id": "pnh45pFjuTI7"
      },
      "execution_count": null,
      "outputs": []
    },
    {
      "cell_type": "code",
      "source": [
        "print(\"accuracy score is\")\n",
        "score"
      ],
      "metadata": {
        "colab": {
          "base_uri": "https://localhost:8080/"
        },
        "id": "sGnXdkJGpcWI",
        "outputId": "91394123-7a9c-4092-c166-c83ca25c3f41"
      },
      "execution_count": null,
      "outputs": [
        {
          "output_type": "stream",
          "name": "stdout",
          "text": [
            "accuracy score is\n"
          ]
        },
        {
          "output_type": "execute_result",
          "data": {
            "text/plain": [
              "0.9295774647887324"
            ]
          },
          "metadata": {},
          "execution_count": 309
        }
      ]
    },
    {
      "cell_type": "code",
      "source": [
        "print(\"classification report is\")\n",
        "print(report)"
      ],
      "metadata": {
        "colab": {
          "base_uri": "https://localhost:8080/"
        },
        "id": "mj3fSVCyu_m5",
        "outputId": "f49cf9a1-3627-4a2e-cecf-9107f4af016c"
      },
      "execution_count": null,
      "outputs": [
        {
          "output_type": "stream",
          "name": "stdout",
          "text": [
            "classification report is\n",
            "              precision    recall  f1-score   support\n",
            "\n",
            "         1.0       0.95      0.97      0.96       333\n",
            "         2.0       0.84      0.73      0.78        64\n",
            "         3.0       0.89      0.86      0.88        29\n",
            "\n",
            "    accuracy                           0.93       426\n",
            "   macro avg       0.89      0.86      0.87       426\n",
            "weighted avg       0.93      0.93      0.93       426\n",
            "\n"
          ]
        }
      ]
    },
    {
      "cell_type": "code",
      "source": [
        "import seaborn as sns\n",
        "plt.figure(figsize=(5,3))\n",
        "sns.heatmap(result,annot=True,fmt='d',cmap='Greens')\n",
        "plt.xlabel('Predicted Value')\n",
        "plt.ylabel('Actual Value')\n",
        "plt.title('Confusion Matrix')\n",
        "plt.show()\n"
      ],
      "metadata": {
        "colab": {
          "base_uri": "https://localhost:8080/",
          "height": 333
        },
        "id": "io6TdpEl7YBi",
        "outputId": "d6db8943-1a44-4e52-d16a-a9a889dcb3ef"
      },
      "execution_count": null,
      "outputs": [
        {
          "output_type": "display_data",
          "data": {
            "text/plain": [
              "<Figure size 500x300 with 2 Axes>"
            ],
            "image/png": "[encoded data removed]"
          },
          "metadata": {}
        }
      ]
    }
  ]
}