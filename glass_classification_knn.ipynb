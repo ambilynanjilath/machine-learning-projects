{
  "nbformat": 4,
  "nbformat_minor": 0,
  "metadata": {
    "colab": {
      "provenance": []
    },
    "kernelspec": {
      "name": "python3",
      "display_name": "Python 3"
    },
    "language_info": {
      "name": "python"
    }
  },
  "cells": [
    {
      "cell_type": "code",
      "execution_count": null,
      "metadata": {
        "colab": {
          "base_uri": "https://localhost:8080/",
          "height": 424
        },
        "id": "OXzPYGzPeNjO",
        "outputId": "bc99f4bb-1c46-4f69-d5c4-8643adac111a"
      },
      "outputs": [
        {
          "output_type": "execute_result",
          "data": {
            "text/plain": [
              "          RI     Na    Mg    Al     Si     K    Ca    Ba   Fe  Type\n",
              "0    1.52101  13.64  4.49  1.10  71.78  0.06  8.75  0.00  0.0     1\n",
              "1    1.51761  13.89  3.60  1.36  72.73  0.48  7.83  0.00  0.0     1\n",
              "2    1.51618  13.53  3.55  1.54  72.99  0.39  7.78  0.00  0.0     1\n",
              "3    1.51766  13.21  3.69  1.29  72.61  0.57  8.22  0.00  0.0     1\n",
              "4    1.51742  13.27  3.62  1.24  73.08  0.55  8.07  0.00  0.0     1\n",
              "..       ...    ...   ...   ...    ...   ...   ...   ...  ...   ...\n",
              "209  1.51623  14.14  0.00  2.88  72.61  0.08  9.18  1.06  0.0     7\n",
              "210  1.51685  14.92  0.00  1.99  73.06  0.00  8.40  1.59  0.0     7\n",
              "211  1.52065  14.36  0.00  2.02  73.42  0.00  8.44  1.64  0.0     7\n",
              "212  1.51651  14.38  0.00  1.94  73.61  0.00  8.48  1.57  0.0     7\n",
              "213  1.51711  14.23  0.00  2.08  73.36  0.00  8.62  1.67  0.0     7\n",
              "\n",
              "[214 rows x 10 columns]"
            ],
            "text/html": [
              "\n",
              "  <div id=\"df-10e5043d-7938-496c-bb23-ff6c1d78c850\">\n",
              "    <div class=\"colab-df-container\">\n",
              "      <div>\n",
              "<style scoped>\n",
              "    .dataframe tbody tr th:only-of-type {\n",
              "        vertical-align: middle;\n",
              "    }\n",
              "\n",
              "    .dataframe tbody tr th {\n",
              "        vertical-align: top;\n",
              "    }\n",
              "\n",
              "    .dataframe thead th {\n",
              "        text-align: right;\n",
              "    }\n",
              "</style>\n",
              "<table border=\"1\" class=\"dataframe\">\n",
              "  <thead>\n",
              "    <tr style=\"text-align: right;\">\n",
              "      <th></th>\n",
              "      <th>RI</th>\n",
              "      <th>Na</th>\n",
              "      <th>Mg</th>\n",
              "      <th>Al</th>\n",
              "      <th>Si</th>\n",
              "      <th>K</th>\n",
              "      <th>Ca</th>\n",
              "      <th>Ba</th>\n",
              "      <th>Fe</th>\n",
              "      <th>Type</th>\n",
              "    </tr>\n",
              "  </thead>\n",
              "  <tbody>\n",
              "    <tr>\n",
              "      <th>0</th>\n",
              "      <td>1.52101</td>\n",
              "      <td>13.64</td>\n",
              "      <td>4.49</td>\n",
              "      <td>1.10</td>\n",
              "      <td>71.78</td>\n",
              "      <td>0.06</td>\n",
              "      <td>8.75</td>\n",
              "      <td>0.00</td>\n",
              "      <td>0.0</td>\n",
              "      <td>1</td>\n",
              "    </tr>\n",
              "    <tr>\n",
              "      <th>1</th>\n",
              "      <td>1.51761</td>\n",
              "      <td>13.89</td>\n",
              "      <td>3.60</td>\n",
              "      <td>1.36</td>\n",
              "      <td>72.73</td>\n",
              "      <td>0.48</td>\n",
              "      <td>7.83</td>\n",
              "      <td>0.00</td>\n",
              "      <td>0.0</td>\n",
              "      <td>1</td>\n",
              "    </tr>\n",
              "    <tr>\n",
              "      <th>2</th>\n",
              "      <td>1.51618</td>\n",
              "      <td>13.53</td>\n",
              "      <td>3.55</td>\n",
              "      <td>1.54</td>\n",
              "      <td>72.99</td>\n",
              "      <td>0.39</td>\n",
              "      <td>7.78</td>\n",
              "      <td>0.00</td>\n",
              "      <td>0.0</td>\n",
              "      <td>1</td>\n",
              "    </tr>\n",
              "    <tr>\n",
              "      <th>3</th>\n",
              "      <td>1.51766</td>\n",
              "      <td>13.21</td>\n",
              "      <td>3.69</td>\n",
              "      <td>1.29</td>\n",
              "      <td>72.61</td>\n",
              "      <td>0.57</td>\n",
              "      <td>8.22</td>\n",
              "      <td>0.00</td>\n",
              "      <td>0.0</td>\n",
              "      <td>1</td>\n",
              "    </tr>\n",
              "    <tr>\n",
              "      <th>4</th>\n",
              "      <td>1.51742</td>\n",
              "      <td>13.27</td>\n",
              "      <td>3.62</td>\n",
              "      <td>1.24</td>\n",
              "      <td>73.08</td>\n",
              "      <td>0.55</td>\n",
              "      <td>8.07</td>\n",
              "      <td>0.00</td>\n",
              "      <td>0.0</td>\n",
              "      <td>1</td>\n",
              "    </tr>\n",
              "    <tr>\n",
              "      <th>...</th>\n",
              "      <td>...</td>\n",
              "      <td>...</td>\n",
              "      <td>...</td>\n",
              "      <td>...</td>\n",
              "      <td>...</td>\n",
              "      <td>...</td>\n",
              "      <td>...</td>\n",
              "      <td>...</td>\n",
              "      <td>...</td>\n",
              "      <td>...</td>\n",
              "    </tr>\n",
              "    <tr>\n",
              "      <th>209</th>\n",
              "      <td>1.51623</td>\n",
              "      <td>14.14</td>\n",
              "      <td>0.00</td>\n",
              "      <td>2.88</td>\n",
              "      <td>72.61</td>\n",
              "      <td>0.08</td>\n",
              "      <td>9.18</td>\n",
              "      <td>1.06</td>\n",
              "      <td>0.0</td>\n",
              "      <td>7</td>\n",
              "    </tr>\n",
              "    <tr>\n",
              "      <th>210</th>\n",
              "      <td>1.51685</td>\n",
              "      <td>14.92</td>\n",
              "      <td>0.00</td>\n",
              "      <td>1.99</td>\n",
              "      <td>73.06</td>\n",
              "      <td>0.00</td>\n",
              "      <td>8.40</td>\n",
              "      <td>1.59</td>\n",
              "      <td>0.0</td>\n",
              "      <td>7</td>\n",
              "    </tr>\n",
              "    <tr>\n",
              "      <th>211</th>\n",
              "      <td>1.52065</td>\n",
              "      <td>14.36</td>\n",
              "      <td>0.00</td>\n",
              "      <td>2.02</td>\n",
              "      <td>73.42</td>\n",
              "      <td>0.00</td>\n",
              "      <td>8.44</td>\n",
              "      <td>1.64</td>\n",
              "      <td>0.0</td>\n",
              "      <td>7</td>\n",
              "    </tr>\n",
              "    <tr>\n",
              "      <th>212</th>\n",
              "      <td>1.51651</td>\n",
              "      <td>14.38</td>\n",
              "      <td>0.00</td>\n",
              "      <td>1.94</td>\n",
              "      <td>73.61</td>\n",
              "      <td>0.00</td>\n",
              "      <td>8.48</td>\n",
              "      <td>1.57</td>\n",
              "      <td>0.0</td>\n",
              "      <td>7</td>\n",
              "    </tr>\n",
              "    <tr>\n",
              "      <th>213</th>\n",
              "      <td>1.51711</td>\n",
              "      <td>14.23</td>\n",
              "      <td>0.00</td>\n",
              "      <td>2.08</td>\n",
              "      <td>73.36</td>\n",
              "      <td>0.00</td>\n",
              "      <td>8.62</td>\n",
              "      <td>1.67</td>\n",
              "      <td>0.0</td>\n",
              "      <td>7</td>\n",
              "    </tr>\n",
              "  </tbody>\n",
              "</table>\n",
              "<p>214 rows × 10 columns</p>\n",
              "</div>\n",
              "      <button class=\"colab-df-convert\" onclick=\"convertToInteractive('df-10e5043d-7938-496c-bb23-ff6c1d78c850')\"\n",
              "              title=\"Convert this dataframe to an interactive table.\"\n",
              "              style=\"display:none;\">\n",
              "        \n",
              "  <svg xmlns=\"http://www.w3.org/2000/svg\" height=\"24px\"viewBox=\"0 0 24 24\"\n",
              "       width=\"24px\">\n",
              "    <path d=\"M0 0h24v24H0V0z\" fill=\"none\"/>\n",
              "    <path d=\"M18.56 5.44l.94 2.06.94-2.06 2.06-.94-2.06-.94-.94-2.06-.94 2.06-2.06.94zm-11 1L8.5 8.5l.94-2.06 2.06-.94-2.06-.94L8.5 2.5l-.94 2.06-2.06.94zm10 10l.94 2.06.94-2.06 2.06-.94-2.06-.94-.94-2.06-.94 2.06-2.06.94z\"/><path d=\"M17.41 7.96l-1.37-1.37c-.4-.4-.92-.59-1.43-.59-.52 0-1.04.2-1.43.59L10.3 9.45l-7.72 7.72c-.78.78-.78 2.05 0 2.83L4 21.41c.39.39.9.59 1.41.59.51 0 1.02-.2 1.41-.59l7.78-7.78 2.81-2.81c.8-.78.8-2.07 0-2.86zM5.41 20L4 18.59l7.72-7.72 1.47 1.35L5.41 20z\"/>\n",
              "  </svg>\n",
              "      </button>\n",
              "      \n",
              "  <style>\n",
              "    .colab-df-container {\n",
              "      display:flex;\n",
              "      flex-wrap:wrap;\n",
              "      gap: 12px;\n",
              "    }\n",
              "\n",
              "    .colab-df-convert {\n",
              "      background-color: #E8F0FE;\n",
              "      border: none;\n",
              "      border-radius: 50%;\n",
              "      cursor: pointer;\n",
              "      display: none;\n",
              "      fill: #1967D2;\n",
              "      height: 32px;\n",
              "      padding: 0 0 0 0;\n",
              "      width: 32px;\n",
              "    }\n",
              "\n",
              "    .colab-df-convert:hover {\n",
              "      background-color: #E2EBFA;\n",
              "      box-shadow: 0px 1px 2px rgba(60, 64, 67, 0.3), 0px 1px 3px 1px rgba(60, 64, 67, 0.15);\n",
              "      fill: #174EA6;\n",
              "    }\n",
              "\n",
              "    [theme=dark] .colab-df-convert {\n",
              "      background-color: #3B4455;\n",
              "      fill: #D2E3FC;\n",
              "    }\n",
              "\n",
              "    [theme=dark] .colab-df-convert:hover {\n",
              "      background-color: #434B5C;\n",
              "      box-shadow: 0px 1px 3px 1px rgba(0, 0, 0, 0.15);\n",
              "      filter: drop-shadow(0px 1px 2px rgba(0, 0, 0, 0.3));\n",
              "      fill: #FFFFFF;\n",
              "    }\n",
              "  </style>\n",
              "\n",
              "      <script>\n",
              "        const buttonEl =\n",
              "          document.querySelector('#df-10e5043d-7938-496c-bb23-ff6c1d78c850 button.colab-df-convert');\n",
              "        buttonEl.style.display =\n",
              "          google.colab.kernel.accessAllowed ? 'block' : 'none';\n",
              "\n",
              "        async function convertToInteractive(key) {\n",
              "          const element = document.querySelector('#df-10e5043d-7938-496c-bb23-ff6c1d78c850');\n",
              "          const dataTable =\n",
              "            await google.colab.kernel.invokeFunction('convertToInteractive',\n",
              "                                                     [key], {});\n",
              "          if (!dataTable) return;\n",
              "\n",
              "          const docLinkHtml = 'Like what you see? Visit the ' +\n",
              "            '<a target=\"_blank\" href=https://colab.research.google.com/notebooks/data_table.ipynb>data table notebook</a>'\n",
              "            + ' to learn more about interactive tables.';\n",
              "          element.innerHTML = '';\n",
              "          dataTable['output_type'] = 'display_data';\n",
              "          await google.colab.output.renderOutput(dataTable, element);\n",
              "          const docLink = document.createElement('div');\n",
              "          docLink.innerHTML = docLinkHtml;\n",
              "          element.appendChild(docLink);\n",
              "        }\n",
              "      </script>\n",
              "    </div>\n",
              "  </div>\n",
              "  "
            ]
          },
          "metadata": {},
          "execution_count": 131
        }
      ],
      "source": [
        "import numpy as np\n",
        "import pandas as pd\n",
        "df=pd.read_csv('/content/glass.csv')\n",
        "df"
      ]
    },
    {
      "cell_type": "code",
      "source": [
        "df.head()"
      ],
      "metadata": {
        "colab": {
          "base_uri": "https://localhost:8080/",
          "height": 206
        },
        "id": "wHIw9I-hyagH",
        "outputId": "05f2ab34-5e34-4505-f2ab-6b0a0bb75100"
      },
      "execution_count": null,
      "outputs": [
        {
          "output_type": "execute_result",
          "data": {
            "text/plain": [
              "        RI     Na    Mg    Al     Si     K    Ca   Ba   Fe  Type\n",
              "0  1.52101  13.64  4.49  1.10  71.78  0.06  8.75  0.0  0.0     1\n",
              "1  1.51761  13.89  3.60  1.36  72.73  0.48  7.83  0.0  0.0     1\n",
              "2  1.51618  13.53  3.55  1.54  72.99  0.39  7.78  0.0  0.0     1\n",
              "3  1.51766  13.21  3.69  1.29  72.61  0.57  8.22  0.0  0.0     1\n",
              "4  1.51742  13.27  3.62  1.24  73.08  0.55  8.07  0.0  0.0     1"
            ],
            "text/html": [
              "\n",
              "  <div id=\"df-513708f1-0adc-4c8a-93b0-8baf290ac9dc\">\n",
              "    <div class=\"colab-df-container\">\n",
              "      <div>\n",
              "<style scoped>\n",
              "    .dataframe tbody tr th:only-of-type {\n",
              "        vertical-align: middle;\n",
              "    }\n",
              "\n",
              "    .dataframe tbody tr th {\n",
              "        vertical-align: top;\n",
              "    }\n",
              "\n",
              "    .dataframe thead th {\n",
              "        text-align: right;\n",
              "    }\n",
              "</style>\n",
              "<table border=\"1\" class=\"dataframe\">\n",
              "  <thead>\n",
              "    <tr style=\"text-align: right;\">\n",
              "      <th></th>\n",
              "      <th>RI</th>\n",
              "      <th>Na</th>\n",
              "      <th>Mg</th>\n",
              "      <th>Al</th>\n",
              "      <th>Si</th>\n",
              "      <th>K</th>\n",
              "      <th>Ca</th>\n",
              "      <th>Ba</th>\n",
              "      <th>Fe</th>\n",
              "      <th>Type</th>\n",
              "    </tr>\n",
              "  </thead>\n",
              "  <tbody>\n",
              "    <tr>\n",
              "      <th>0</th>\n",
              "      <td>1.52101</td>\n",
              "      <td>13.64</td>\n",
              "      <td>4.49</td>\n",
              "      <td>1.10</td>\n",
              "      <td>71.78</td>\n",
              "      <td>0.06</td>\n",
              "      <td>8.75</td>\n",
              "      <td>0.0</td>\n",
              "      <td>0.0</td>\n",
              "      <td>1</td>\n",
              "    </tr>\n",
              "    <tr>\n",
              "      <th>1</th>\n",
              "      <td>1.51761</td>\n",
              "      <td>13.89</td>\n",
              "      <td>3.60</td>\n",
              "      <td>1.36</td>\n",
              "      <td>72.73</td>\n",
              "      <td>0.48</td>\n",
              "      <td>7.83</td>\n",
              "      <td>0.0</td>\n",
              "      <td>0.0</td>\n",
              "      <td>1</td>\n",
              "    </tr>\n",
              "    <tr>\n",
              "      <th>2</th>\n",
              "      <td>1.51618</td>\n",
              "      <td>13.53</td>\n",
              "      <td>3.55</td>\n",
              "      <td>1.54</td>\n",
              "      <td>72.99</td>\n",
              "      <td>0.39</td>\n",
              "      <td>7.78</td>\n",
              "      <td>0.0</td>\n",
              "      <td>0.0</td>\n",
              "      <td>1</td>\n",
              "    </tr>\n",
              "    <tr>\n",
              "      <th>3</th>\n",
              "      <td>1.51766</td>\n",
              "      <td>13.21</td>\n",
              "      <td>3.69</td>\n",
              "      <td>1.29</td>\n",
              "      <td>72.61</td>\n",
              "      <td>0.57</td>\n",
              "      <td>8.22</td>\n",
              "      <td>0.0</td>\n",
              "      <td>0.0</td>\n",
              "      <td>1</td>\n",
              "    </tr>\n",
              "    <tr>\n",
              "      <th>4</th>\n",
              "      <td>1.51742</td>\n",
              "      <td>13.27</td>\n",
              "      <td>3.62</td>\n",
              "      <td>1.24</td>\n",
              "      <td>73.08</td>\n",
              "      <td>0.55</td>\n",
              "      <td>8.07</td>\n",
              "      <td>0.0</td>\n",
              "      <td>0.0</td>\n",
              "      <td>1</td>\n",
              "    </tr>\n",
              "  </tbody>\n",
              "</table>\n",
              "</div>\n",
              "      <button class=\"colab-df-convert\" onclick=\"convertToInteractive('df-513708f1-0adc-4c8a-93b0-8baf290ac9dc')\"\n",
              "              title=\"Convert this dataframe to an interactive table.\"\n",
              "              style=\"display:none;\">\n",
              "        \n",
              "  <svg xmlns=\"http://www.w3.org/2000/svg\" height=\"24px\"viewBox=\"0 0 24 24\"\n",
              "       width=\"24px\">\n",
              "    <path d=\"M0 0h24v24H0V0z\" fill=\"none\"/>\n",
              "    <path d=\"M18.56 5.44l.94 2.06.94-2.06 2.06-.94-2.06-.94-.94-2.06-.94 2.06-2.06.94zm-11 1L8.5 8.5l.94-2.06 2.06-.94-2.06-.94L8.5 2.5l-.94 2.06-2.06.94zm10 10l.94 2.06.94-2.06 2.06-.94-2.06-.94-.94-2.06-.94 2.06-2.06.94z\"/><path d=\"M17.41 7.96l-1.37-1.37c-.4-.4-.92-.59-1.43-.59-.52 0-1.04.2-1.43.59L10.3 9.45l-7.72 7.72c-.78.78-.78 2.05 0 2.83L4 21.41c.39.39.9.59 1.41.59.51 0 1.02-.2 1.41-.59l7.78-7.78 2.81-2.81c.8-.78.8-2.07 0-2.86zM5.41 20L4 18.59l7.72-7.72 1.47 1.35L5.41 20z\"/>\n",
              "  </svg>\n",
              "      </button>\n",
              "      \n",
              "  <style>\n",
              "    .colab-df-container {\n",
              "      display:flex;\n",
              "      flex-wrap:wrap;\n",
              "      gap: 12px;\n",
              "    }\n",
              "\n",
              "    .colab-df-convert {\n",
              "      background-color: #E8F0FE;\n",
              "      border: none;\n",
              "      border-radius: 50%;\n",
              "      cursor: pointer;\n",
              "      display: none;\n",
              "      fill: #1967D2;\n",
              "      height: 32px;\n",
              "      padding: 0 0 0 0;\n",
              "      width: 32px;\n",
              "    }\n",
              "\n",
              "    .colab-df-convert:hover {\n",
              "      background-color: #E2EBFA;\n",
              "      box-shadow: 0px 1px 2px rgba(60, 64, 67, 0.3), 0px 1px 3px 1px rgba(60, 64, 67, 0.15);\n",
              "      fill: #174EA6;\n",
              "    }\n",
              "\n",
              "    [theme=dark] .colab-df-convert {\n",
              "      background-color: #3B4455;\n",
              "      fill: #D2E3FC;\n",
              "    }\n",
              "\n",
              "    [theme=dark] .colab-df-convert:hover {\n",
              "      background-color: #434B5C;\n",
              "      box-shadow: 0px 1px 3px 1px rgba(0, 0, 0, 0.15);\n",
              "      filter: drop-shadow(0px 1px 2px rgba(0, 0, 0, 0.3));\n",
              "      fill: #FFFFFF;\n",
              "    }\n",
              "  </style>\n",
              "\n",
              "      <script>\n",
              "        const buttonEl =\n",
              "          document.querySelector('#df-513708f1-0adc-4c8a-93b0-8baf290ac9dc button.colab-df-convert');\n",
              "        buttonEl.style.display =\n",
              "          google.colab.kernel.accessAllowed ? 'block' : 'none';\n",
              "\n",
              "        async function convertToInteractive(key) {\n",
              "          const element = document.querySelector('#df-513708f1-0adc-4c8a-93b0-8baf290ac9dc');\n",
              "          const dataTable =\n",
              "            await google.colab.kernel.invokeFunction('convertToInteractive',\n",
              "                                                     [key], {});\n",
              "          if (!dataTable) return;\n",
              "\n",
              "          const docLinkHtml = 'Like what you see? Visit the ' +\n",
              "            '<a target=\"_blank\" href=https://colab.research.google.com/notebooks/data_table.ipynb>data table notebook</a>'\n",
              "            + ' to learn more about interactive tables.';\n",
              "          element.innerHTML = '';\n",
              "          dataTable['output_type'] = 'display_data';\n",
              "          await google.colab.output.renderOutput(dataTable, element);\n",
              "          const docLink = document.createElement('div');\n",
              "          docLink.innerHTML = docLinkHtml;\n",
              "          element.appendChild(docLink);\n",
              "        }\n",
              "      </script>\n",
              "    </div>\n",
              "  </div>\n",
              "  "
            ]
          },
          "metadata": {},
          "execution_count": 132
        }
      ]
    },
    {
      "cell_type": "code",
      "source": [
        "df.tail()"
      ],
      "metadata": {
        "colab": {
          "base_uri": "https://localhost:8080/",
          "height": 206
        },
        "id": "O0yy9QEbygXV",
        "outputId": "0c40688b-8ce8-4710-d97d-4544cb878250"
      },
      "execution_count": null,
      "outputs": [
        {
          "output_type": "execute_result",
          "data": {
            "text/plain": [
              "          RI     Na   Mg    Al     Si     K    Ca    Ba   Fe  Type\n",
              "209  1.51623  14.14  0.0  2.88  72.61  0.08  9.18  1.06  0.0     7\n",
              "210  1.51685  14.92  0.0  1.99  73.06  0.00  8.40  1.59  0.0     7\n",
              "211  1.52065  14.36  0.0  2.02  73.42  0.00  8.44  1.64  0.0     7\n",
              "212  1.51651  14.38  0.0  1.94  73.61  0.00  8.48  1.57  0.0     7\n",
              "213  1.51711  14.23  0.0  2.08  73.36  0.00  8.62  1.67  0.0     7"
            ],
            "text/html": [
              "\n",
              "  <div id=\"df-17b94c2e-d2ed-4c04-a87c-02552eeb2c61\">\n",
              "    <div class=\"colab-df-container\">\n",
              "      <div>\n",
              "<style scoped>\n",
              "    .dataframe tbody tr th:only-of-type {\n",
              "        vertical-align: middle;\n",
              "    }\n",
              "\n",
              "    .dataframe tbody tr th {\n",
              "        vertical-align: top;\n",
              "    }\n",
              "\n",
              "    .dataframe thead th {\n",
              "        text-align: right;\n",
              "    }\n",
              "</style>\n",
              "<table border=\"1\" class=\"dataframe\">\n",
              "  <thead>\n",
              "    <tr style=\"text-align: right;\">\n",
              "      <th></th>\n",
              "      <th>RI</th>\n",
              "      <th>Na</th>\n",
              "      <th>Mg</th>\n",
              "      <th>Al</th>\n",
              "      <th>Si</th>\n",
              "      <th>K</th>\n",
              "      <th>Ca</th>\n",
              "      <th>Ba</th>\n",
              "      <th>Fe</th>\n",
              "      <th>Type</th>\n",
              "    </tr>\n",
              "  </thead>\n",
              "  <tbody>\n",
              "    <tr>\n",
              "      <th>209</th>\n",
              "      <td>1.51623</td>\n",
              "      <td>14.14</td>\n",
              "      <td>0.0</td>\n",
              "      <td>2.88</td>\n",
              "      <td>72.61</td>\n",
              "      <td>0.08</td>\n",
              "      <td>9.18</td>\n",
              "      <td>1.06</td>\n",
              "      <td>0.0</td>\n",
              "      <td>7</td>\n",
              "    </tr>\n",
              "    <tr>\n",
              "      <th>210</th>\n",
              "      <td>1.51685</td>\n",
              "      <td>14.92</td>\n",
              "      <td>0.0</td>\n",
              "      <td>1.99</td>\n",
              "      <td>73.06</td>\n",
              "      <td>0.00</td>\n",
              "      <td>8.40</td>\n",
              "      <td>1.59</td>\n",
              "      <td>0.0</td>\n",
              "      <td>7</td>\n",
              "    </tr>\n",
              "    <tr>\n",
              "      <th>211</th>\n",
              "      <td>1.52065</td>\n",
              "      <td>14.36</td>\n",
              "      <td>0.0</td>\n",
              "      <td>2.02</td>\n",
              "      <td>73.42</td>\n",
              "      <td>0.00</td>\n",
              "      <td>8.44</td>\n",
              "      <td>1.64</td>\n",
              "      <td>0.0</td>\n",
              "      <td>7</td>\n",
              "    </tr>\n",
              "    <tr>\n",
              "      <th>212</th>\n",
              "      <td>1.51651</td>\n",
              "      <td>14.38</td>\n",
              "      <td>0.0</td>\n",
              "      <td>1.94</td>\n",
              "      <td>73.61</td>\n",
              "      <td>0.00</td>\n",
              "      <td>8.48</td>\n",
              "      <td>1.57</td>\n",
              "      <td>0.0</td>\n",
              "      <td>7</td>\n",
              "    </tr>\n",
              "    <tr>\n",
              "      <th>213</th>\n",
              "      <td>1.51711</td>\n",
              "      <td>14.23</td>\n",
              "      <td>0.0</td>\n",
              "      <td>2.08</td>\n",
              "      <td>73.36</td>\n",
              "      <td>0.00</td>\n",
              "      <td>8.62</td>\n",
              "      <td>1.67</td>\n",
              "      <td>0.0</td>\n",
              "      <td>7</td>\n",
              "    </tr>\n",
              "  </tbody>\n",
              "</table>\n",
              "</div>\n",
              "      <button class=\"colab-df-convert\" onclick=\"convertToInteractive('df-17b94c2e-d2ed-4c04-a87c-02552eeb2c61')\"\n",
              "              title=\"Convert this dataframe to an interactive table.\"\n",
              "              style=\"display:none;\">\n",
              "        \n",
              "  <svg xmlns=\"http://www.w3.org/2000/svg\" height=\"24px\"viewBox=\"0 0 24 24\"\n",
              "       width=\"24px\">\n",
              "    <path d=\"M0 0h24v24H0V0z\" fill=\"none\"/>\n",
              "    <path d=\"M18.56 5.44l.94 2.06.94-2.06 2.06-.94-2.06-.94-.94-2.06-.94 2.06-2.06.94zm-11 1L8.5 8.5l.94-2.06 2.06-.94-2.06-.94L8.5 2.5l-.94 2.06-2.06.94zm10 10l.94 2.06.94-2.06 2.06-.94-2.06-.94-.94-2.06-.94 2.06-2.06.94z\"/><path d=\"M17.41 7.96l-1.37-1.37c-.4-.4-.92-.59-1.43-.59-.52 0-1.04.2-1.43.59L10.3 9.45l-7.72 7.72c-.78.78-.78 2.05 0 2.83L4 21.41c.39.39.9.59 1.41.59.51 0 1.02-.2 1.41-.59l7.78-7.78 2.81-2.81c.8-.78.8-2.07 0-2.86zM5.41 20L4 18.59l7.72-7.72 1.47 1.35L5.41 20z\"/>\n",
              "  </svg>\n",
              "      </button>\n",
              "      \n",
              "  <style>\n",
              "    .colab-df-container {\n",
              "      display:flex;\n",
              "      flex-wrap:wrap;\n",
              "      gap: 12px;\n",
              "    }\n",
              "\n",
              "    .colab-df-convert {\n",
              "      background-color: #E8F0FE;\n",
              "      border: none;\n",
              "      border-radius: 50%;\n",
              "      cursor: pointer;\n",
              "      display: none;\n",
              "      fill: #1967D2;\n",
              "      height: 32px;\n",
              "      padding: 0 0 0 0;\n",
              "      width: 32px;\n",
              "    }\n",
              "\n",
              "    .colab-df-convert:hover {\n",
              "      background-color: #E2EBFA;\n",
              "      box-shadow: 0px 1px 2px rgba(60, 64, 67, 0.3), 0px 1px 3px 1px rgba(60, 64, 67, 0.15);\n",
              "      fill: #174EA6;\n",
              "    }\n",
              "\n",
              "    [theme=dark] .colab-df-convert {\n",
              "      background-color: #3B4455;\n",
              "      fill: #D2E3FC;\n",
              "    }\n",
              "\n",
              "    [theme=dark] .colab-df-convert:hover {\n",
              "      background-color: #434B5C;\n",
              "      box-shadow: 0px 1px 3px 1px rgba(0, 0, 0, 0.15);\n",
              "      filter: drop-shadow(0px 1px 2px rgba(0, 0, 0, 0.3));\n",
              "      fill: #FFFFFF;\n",
              "    }\n",
              "  </style>\n",
              "\n",
              "      <script>\n",
              "        const buttonEl =\n",
              "          document.querySelector('#df-17b94c2e-d2ed-4c04-a87c-02552eeb2c61 button.colab-df-convert');\n",
              "        buttonEl.style.display =\n",
              "          google.colab.kernel.accessAllowed ? 'block' : 'none';\n",
              "\n",
              "        async function convertToInteractive(key) {\n",
              "          const element = document.querySelector('#df-17b94c2e-d2ed-4c04-a87c-02552eeb2c61');\n",
              "          const dataTable =\n",
              "            await google.colab.kernel.invokeFunction('convertToInteractive',\n",
              "                                                     [key], {});\n",
              "          if (!dataTable) return;\n",
              "\n",
              "          const docLinkHtml = 'Like what you see? Visit the ' +\n",
              "            '<a target=\"_blank\" href=https://colab.research.google.com/notebooks/data_table.ipynb>data table notebook</a>'\n",
              "            + ' to learn more about interactive tables.';\n",
              "          element.innerHTML = '';\n",
              "          dataTable['output_type'] = 'display_data';\n",
              "          await google.colab.output.renderOutput(dataTable, element);\n",
              "          const docLink = document.createElement('div');\n",
              "          docLink.innerHTML = docLinkHtml;\n",
              "          element.appendChild(docLink);\n",
              "        }\n",
              "      </script>\n",
              "    </div>\n",
              "  </div>\n",
              "  "
            ]
          },
          "metadata": {},
          "execution_count": 133
        }
      ]
    },
    {
      "cell_type": "code",
      "source": [
        "df.shape"
      ],
      "metadata": {
        "colab": {
          "base_uri": "https://localhost:8080/"
        },
        "id": "68fRYFHCyjP4",
        "outputId": "908cd5b5-2f37-47d1-c358-213c6af570e7"
      },
      "execution_count": null,
      "outputs": [
        {
          "output_type": "execute_result",
          "data": {
            "text/plain": [
              "(214, 10)"
            ]
          },
          "metadata": {},
          "execution_count": 134
        }
      ]
    },
    {
      "cell_type": "code",
      "source": [
        "df.dtypes"
      ],
      "metadata": {
        "colab": {
          "base_uri": "https://localhost:8080/"
        },
        "id": "Q7-M_vkSzE06",
        "outputId": "d5b05ecf-2395-4ef7-dfba-f844af1ce5ba"
      },
      "execution_count": null,
      "outputs": [
        {
          "output_type": "execute_result",
          "data": {
            "text/plain": [
              "RI      float64\n",
              "Na      float64\n",
              "Mg      float64\n",
              "Al      float64\n",
              "Si      float64\n",
              "K       float64\n",
              "Ca      float64\n",
              "Ba      float64\n",
              "Fe      float64\n",
              "Type      int64\n",
              "dtype: object"
            ]
          },
          "metadata": {},
          "execution_count": 135
        }
      ]
    },
    {
      "cell_type": "code",
      "source": [
        "df.isna().sum()"
      ],
      "metadata": {
        "colab": {
          "base_uri": "https://localhost:8080/"
        },
        "id": "FF_edy-GzI2w",
        "outputId": "72e2c57f-0746-4ea0-b868-0b63164eb6b7"
      },
      "execution_count": null,
      "outputs": [
        {
          "output_type": "execute_result",
          "data": {
            "text/plain": [
              "RI      0\n",
              "Na      0\n",
              "Mg      0\n",
              "Al      0\n",
              "Si      0\n",
              "K       0\n",
              "Ca      0\n",
              "Ba      0\n",
              "Fe      0\n",
              "Type    0\n",
              "dtype: int64"
            ]
          },
          "metadata": {},
          "execution_count": 136
        }
      ]
    },
    {
      "cell_type": "code",
      "source": [
        "df.describe()"
      ],
      "metadata": {
        "colab": {
          "base_uri": "https://localhost:8080/",
          "height": 364
        },
        "id": "DoMe0b9rzOoi",
        "outputId": "1ca94a3f-d270-49e3-ec8a-4fe692e827ac"
      },
      "execution_count": null,
      "outputs": [
        {
          "output_type": "execute_result",
          "data": {
            "text/plain": [
              "               RI          Na          Mg          Al          Si           K  \\\n",
              "count  214.000000  214.000000  214.000000  214.000000  214.000000  214.000000   \n",
              "mean     1.518365   13.407850    2.684533    1.444907   72.650935    0.497056   \n",
              "std      0.003037    0.816604    1.442408    0.499270    0.774546    0.652192   \n",
              "min      1.511150   10.730000    0.000000    0.290000   69.810000    0.000000   \n",
              "25%      1.516522   12.907500    2.115000    1.190000   72.280000    0.122500   \n",
              "50%      1.517680   13.300000    3.480000    1.360000   72.790000    0.555000   \n",
              "75%      1.519157   13.825000    3.600000    1.630000   73.087500    0.610000   \n",
              "max      1.533930   17.380000    4.490000    3.500000   75.410000    6.210000   \n",
              "\n",
              "               Ca          Ba          Fe        Type  \n",
              "count  214.000000  214.000000  214.000000  214.000000  \n",
              "mean     8.956963    0.175047    0.057009    2.780374  \n",
              "std      1.423153    0.497219    0.097439    2.103739  \n",
              "min      5.430000    0.000000    0.000000    1.000000  \n",
              "25%      8.240000    0.000000    0.000000    1.000000  \n",
              "50%      8.600000    0.000000    0.000000    2.000000  \n",
              "75%      9.172500    0.000000    0.100000    3.000000  \n",
              "max     16.190000    3.150000    0.510000    7.000000  "
            ],
            "text/html": [
              "\n",
              "  <div id=\"df-1e618ec4-1b21-4200-b6cc-c63b4add3aa7\">\n",
              "    <div class=\"colab-df-container\">\n",
              "      <div>\n",
              "<style scoped>\n",
              "    .dataframe tbody tr th:only-of-type {\n",
              "        vertical-align: middle;\n",
              "    }\n",
              "\n",
              "    .dataframe tbody tr th {\n",
              "        vertical-align: top;\n",
              "    }\n",
              "\n",
              "    .dataframe thead th {\n",
              "        text-align: right;\n",
              "    }\n",
              "</style>\n",
              "<table border=\"1\" class=\"dataframe\">\n",
              "  <thead>\n",
              "    <tr style=\"text-align: right;\">\n",
              "      <th></th>\n",
              "      <th>RI</th>\n",
              "      <th>Na</th>\n",
              "      <th>Mg</th>\n",
              "      <th>Al</th>\n",
              "      <th>Si</th>\n",
              "      <th>K</th>\n",
              "      <th>Ca</th>\n",
              "      <th>Ba</th>\n",
              "      <th>Fe</th>\n",
              "      <th>Type</th>\n",
              "    </tr>\n",
              "  </thead>\n",
              "  <tbody>\n",
              "    <tr>\n",
              "      <th>count</th>\n",
              "      <td>214.000000</td>\n",
              "      <td>214.000000</td>\n",
              "      <td>214.000000</td>\n",
              "      <td>214.000000</td>\n",
              "      <td>214.000000</td>\n",
              "      <td>214.000000</td>\n",
              "      <td>214.000000</td>\n",
              "      <td>214.000000</td>\n",
              "      <td>214.000000</td>\n",
              "      <td>214.000000</td>\n",
              "    </tr>\n",
              "    <tr>\n",
              "      <th>mean</th>\n",
              "      <td>1.518365</td>\n",
              "      <td>13.407850</td>\n",
              "      <td>2.684533</td>\n",
              "      <td>1.444907</td>\n",
              "      <td>72.650935</td>\n",
              "      <td>0.497056</td>\n",
              "      <td>8.956963</td>\n",
              "      <td>0.175047</td>\n",
              "      <td>0.057009</td>\n",
              "      <td>2.780374</td>\n",
              "    </tr>\n",
              "    <tr>\n",
              "      <th>std</th>\n",
              "      <td>0.003037</td>\n",
              "      <td>0.816604</td>\n",
              "      <td>1.442408</td>\n",
              "      <td>0.499270</td>\n",
              "      <td>0.774546</td>\n",
              "      <td>0.652192</td>\n",
              "      <td>1.423153</td>\n",
              "      <td>0.497219</td>\n",
              "      <td>0.097439</td>\n",
              "      <td>2.103739</td>\n",
              "    </tr>\n",
              "    <tr>\n",
              "      <th>min</th>\n",
              "      <td>1.511150</td>\n",
              "      <td>10.730000</td>\n",
              "      <td>0.000000</td>\n",
              "      <td>0.290000</td>\n",
              "      <td>69.810000</td>\n",
              "      <td>0.000000</td>\n",
              "      <td>5.430000</td>\n",
              "      <td>0.000000</td>\n",
              "      <td>0.000000</td>\n",
              "      <td>1.000000</td>\n",
              "    </tr>\n",
              "    <tr>\n",
              "      <th>25%</th>\n",
              "      <td>1.516522</td>\n",
              "      <td>12.907500</td>\n",
              "      <td>2.115000</td>\n",
              "      <td>1.190000</td>\n",
              "      <td>72.280000</td>\n",
              "      <td>0.122500</td>\n",
              "      <td>8.240000</td>\n",
              "      <td>0.000000</td>\n",
              "      <td>0.000000</td>\n",
              "      <td>1.000000</td>\n",
              "    </tr>\n",
              "    <tr>\n",
              "      <th>50%</th>\n",
              "      <td>1.517680</td>\n",
              "      <td>13.300000</td>\n",
              "      <td>3.480000</td>\n",
              "      <td>1.360000</td>\n",
              "      <td>72.790000</td>\n",
              "      <td>0.555000</td>\n",
              "      <td>8.600000</td>\n",
              "      <td>0.000000</td>\n",
              "      <td>0.000000</td>\n",
              "      <td>2.000000</td>\n",
              "    </tr>\n",
              "    <tr>\n",
              "      <th>75%</th>\n",
              "      <td>1.519157</td>\n",
              "      <td>13.825000</td>\n",
              "      <td>3.600000</td>\n",
              "      <td>1.630000</td>\n",
              "      <td>73.087500</td>\n",
              "      <td>0.610000</td>\n",
              "      <td>9.172500</td>\n",
              "      <td>0.000000</td>\n",
              "      <td>0.100000</td>\n",
              "      <td>3.000000</td>\n",
              "    </tr>\n",
              "    <tr>\n",
              "      <th>max</th>\n",
              "      <td>1.533930</td>\n",
              "      <td>17.380000</td>\n",
              "      <td>4.490000</td>\n",
              "      <td>3.500000</td>\n",
              "      <td>75.410000</td>\n",
              "      <td>6.210000</td>\n",
              "      <td>16.190000</td>\n",
              "      <td>3.150000</td>\n",
              "      <td>0.510000</td>\n",
              "      <td>7.000000</td>\n",
              "    </tr>\n",
              "  </tbody>\n",
              "</table>\n",
              "</div>\n",
              "      <button class=\"colab-df-convert\" onclick=\"convertToInteractive('df-1e618ec4-1b21-4200-b6cc-c63b4add3aa7')\"\n",
              "              title=\"Convert this dataframe to an interactive table.\"\n",
              "              style=\"display:none;\">\n",
              "        \n",
              "  <svg xmlns=\"http://www.w3.org/2000/svg\" height=\"24px\"viewBox=\"0 0 24 24\"\n",
              "       width=\"24px\">\n",
              "    <path d=\"M0 0h24v24H0V0z\" fill=\"none\"/>\n",
              "    <path d=\"M18.56 5.44l.94 2.06.94-2.06 2.06-.94-2.06-.94-.94-2.06-.94 2.06-2.06.94zm-11 1L8.5 8.5l.94-2.06 2.06-.94-2.06-.94L8.5 2.5l-.94 2.06-2.06.94zm10 10l.94 2.06.94-2.06 2.06-.94-2.06-.94-.94-2.06-.94 2.06-2.06.94z\"/><path d=\"M17.41 7.96l-1.37-1.37c-.4-.4-.92-.59-1.43-.59-.52 0-1.04.2-1.43.59L10.3 9.45l-7.72 7.72c-.78.78-.78 2.05 0 2.83L4 21.41c.39.39.9.59 1.41.59.51 0 1.02-.2 1.41-.59l7.78-7.78 2.81-2.81c.8-.78.8-2.07 0-2.86zM5.41 20L4 18.59l7.72-7.72 1.47 1.35L5.41 20z\"/>\n",
              "  </svg>\n",
              "      </button>\n",
              "      \n",
              "  <style>\n",
              "    .colab-df-container {\n",
              "      display:flex;\n",
              "      flex-wrap:wrap;\n",
              "      gap: 12px;\n",
              "    }\n",
              "\n",
              "    .colab-df-convert {\n",
              "      background-color: #E8F0FE;\n",
              "      border: none;\n",
              "      border-radius: 50%;\n",
              "      cursor: pointer;\n",
              "      display: none;\n",
              "      fill: #1967D2;\n",
              "      height: 32px;\n",
              "      padding: 0 0 0 0;\n",
              "      width: 32px;\n",
              "    }\n",
              "\n",
              "    .colab-df-convert:hover {\n",
              "      background-color: #E2EBFA;\n",
              "      box-shadow: 0px 1px 2px rgba(60, 64, 67, 0.3), 0px 1px 3px 1px rgba(60, 64, 67, 0.15);\n",
              "      fill: #174EA6;\n",
              "    }\n",
              "\n",
              "    [theme=dark] .colab-df-convert {\n",
              "      background-color: #3B4455;\n",
              "      fill: #D2E3FC;\n",
              "    }\n",
              "\n",
              "    [theme=dark] .colab-df-convert:hover {\n",
              "      background-color: #434B5C;\n",
              "      box-shadow: 0px 1px 3px 1px rgba(0, 0, 0, 0.15);\n",
              "      filter: drop-shadow(0px 1px 2px rgba(0, 0, 0, 0.3));\n",
              "      fill: #FFFFFF;\n",
              "    }\n",
              "  </style>\n",
              "\n",
              "      <script>\n",
              "        const buttonEl =\n",
              "          document.querySelector('#df-1e618ec4-1b21-4200-b6cc-c63b4add3aa7 button.colab-df-convert');\n",
              "        buttonEl.style.display =\n",
              "          google.colab.kernel.accessAllowed ? 'block' : 'none';\n",
              "\n",
              "        async function convertToInteractive(key) {\n",
              "          const element = document.querySelector('#df-1e618ec4-1b21-4200-b6cc-c63b4add3aa7');\n",
              "          const dataTable =\n",
              "            await google.colab.kernel.invokeFunction('convertToInteractive',\n",
              "                                                     [key], {});\n",
              "          if (!dataTable) return;\n",
              "\n",
              "          const docLinkHtml = 'Like what you see? Visit the ' +\n",
              "            '<a target=\"_blank\" href=https://colab.research.google.com/notebooks/data_table.ipynb>data table notebook</a>'\n",
              "            + ' to learn more about interactive tables.';\n",
              "          element.innerHTML = '';\n",
              "          dataTable['output_type'] = 'display_data';\n",
              "          await google.colab.output.renderOutput(dataTable, element);\n",
              "          const docLink = document.createElement('div');\n",
              "          docLink.innerHTML = docLinkHtml;\n",
              "          element.appendChild(docLink);\n",
              "        }\n",
              "      </script>\n",
              "    </div>\n",
              "  </div>\n",
              "  "
            ]
          },
          "metadata": {},
          "execution_count": 137
        }
      ]
    },
    {
      "cell_type": "code",
      "source": [
        "df1=df['Type'].value_counts()\n",
        "df1"
      ],
      "metadata": {
        "colab": {
          "base_uri": "https://localhost:8080/"
        },
        "id": "WdLDkyEGexoB",
        "outputId": "a83f7830-c536-4076-ed48-99289c1cddeb"
      },
      "execution_count": null,
      "outputs": [
        {
          "output_type": "execute_result",
          "data": {
            "text/plain": [
              "2    76\n",
              "1    70\n",
              "7    29\n",
              "3    17\n",
              "5    13\n",
              "6     9\n",
              "Name: Type, dtype: int64"
            ]
          },
          "metadata": {},
          "execution_count": 138
        }
      ]
    },
    {
      "cell_type": "code",
      "source": [
        "x=df.iloc[:,:-1].values\n",
        "y=df.iloc[:,-1].values"
      ],
      "metadata": {
        "id": "9X_AM0g6fLBx"
      },
      "execution_count": null,
      "outputs": []
    },
    {
      "cell_type": "code",
      "source": [
        "x"
      ],
      "metadata": {
        "colab": {
          "base_uri": "https://localhost:8080/"
        },
        "id": "i2gi12IyzaYf",
        "outputId": "c7c5a3e0-9d55-4333-f77f-bd08eb5d3f86"
      },
      "execution_count": null,
      "outputs": [
        {
          "output_type": "execute_result",
          "data": {
            "text/plain": [
              "array([[ 1.52101, 13.64   ,  4.49   , ...,  8.75   ,  0.     ,  0.     ],\n",
              "       [ 1.51761, 13.89   ,  3.6    , ...,  7.83   ,  0.     ,  0.     ],\n",
              "       [ 1.51618, 13.53   ,  3.55   , ...,  7.78   ,  0.     ,  0.     ],\n",
              "       ...,\n",
              "       [ 1.52065, 14.36   ,  0.     , ...,  8.44   ,  1.64   ,  0.     ],\n",
              "       [ 1.51651, 14.38   ,  0.     , ...,  8.48   ,  1.57   ,  0.     ],\n",
              "       [ 1.51711, 14.23   ,  0.     , ...,  8.62   ,  1.67   ,  0.     ]])"
            ]
          },
          "metadata": {},
          "execution_count": 141
        }
      ]
    },
    {
      "cell_type": "code",
      "source": [
        "y"
      ],
      "metadata": {
        "colab": {
          "base_uri": "https://localhost:8080/"
        },
        "id": "IaoT5oa9zc7e",
        "outputId": "ce203513-fc2c-4ea7-99d6-241a03a4e926"
      },
      "execution_count": null,
      "outputs": [
        {
          "output_type": "execute_result",
          "data": {
            "text/plain": [
              "array([1, 1, 1, 1, 1, 1, 1, 1, 1, 1, 1, 1, 1, 1, 1, 1, 1, 1, 1, 1, 1, 1,\n",
              "       1, 1, 1, 1, 1, 1, 1, 1, 1, 1, 1, 1, 1, 1, 1, 1, 1, 1, 1, 1, 1, 1,\n",
              "       1, 1, 1, 1, 1, 1, 1, 1, 1, 1, 1, 1, 1, 1, 1, 1, 1, 1, 1, 1, 1, 1,\n",
              "       1, 1, 1, 1, 2, 2, 2, 2, 2, 2, 2, 2, 2, 2, 2, 2, 2, 2, 2, 2, 2, 2,\n",
              "       2, 2, 2, 2, 2, 2, 2, 2, 2, 2, 2, 2, 2, 2, 2, 2, 2, 2, 2, 2, 2, 2,\n",
              "       2, 2, 2, 2, 2, 2, 2, 2, 2, 2, 2, 2, 2, 2, 2, 2, 2, 2, 2, 2, 2, 2,\n",
              "       2, 2, 2, 2, 2, 2, 2, 2, 2, 2, 2, 2, 2, 2, 3, 3, 3, 3, 3, 3, 3, 3,\n",
              "       3, 3, 3, 3, 3, 3, 3, 3, 3, 5, 5, 5, 5, 5, 5, 5, 5, 5, 5, 5, 5, 5,\n",
              "       6, 6, 6, 6, 6, 6, 6, 6, 6, 7, 7, 7, 7, 7, 7, 7, 7, 7, 7, 7, 7, 7,\n",
              "       7, 7, 7, 7, 7, 7, 7, 7, 7, 7, 7, 7, 7, 7, 7, 7])"
            ]
          },
          "metadata": {},
          "execution_count": 142
        }
      ]
    },
    {
      "cell_type": "code",
      "source": [
        "\n",
        "from sklearn.model_selection import train_test_split\n",
        "x_train,x_test,y_train,y_test=train_test_split(x,y,test_size=0.20,random_state=42)\n"
      ],
      "metadata": {
        "id": "0Rk4N4NdfXvT"
      },
      "execution_count": null,
      "outputs": []
    },
    {
      "cell_type": "code",
      "source": [
        "x_train"
      ],
      "metadata": {
        "colab": {
          "base_uri": "https://localhost:8080/"
        },
        "id": "3loF89GNzwxB",
        "outputId": "af103945-295e-4729-9c58-20e353e855f3"
      },
      "execution_count": null,
      "outputs": [
        {
          "output_type": "execute_result",
          "data": {
            "text/plain": [
              "array([[ 1.5159 , 12.82   ,  3.52   , ...,  7.97   ,  0.     ,  0.     ],\n",
              "       [ 1.51934, 13.64   ,  3.54   , ...,  8.89   ,  0.15   ,  0.24   ],\n",
              "       [ 1.51818, 13.72   ,  0.     , ..., 10.99   ,  0.     ,  0.     ],\n",
              "       ...,\n",
              "       [ 1.51588, 13.12   ,  3.41   , ...,  8.39   ,  0.     ,  0.19   ],\n",
              "       [ 1.51852, 14.09   ,  2.19   , ...,  9.32   ,  0.     ,  0.     ],\n",
              "       [ 1.5182 , 12.62   ,  2.76   , ...,  9.42   ,  0.     ,  0.2    ]])"
            ]
          },
          "metadata": {},
          "execution_count": 144
        }
      ]
    },
    {
      "cell_type": "code",
      "source": [
        "x_test"
      ],
      "metadata": {
        "colab": {
          "base_uri": "https://localhost:8080/"
        },
        "id": "U4EPQbvBzzlw",
        "outputId": "54649935-8a76-452a-b819-d76ae8da2e05"
      },
      "execution_count": null,
      "outputs": [
        {
          "output_type": "execute_result",
          "data": {
            "text/plain": [
              "array([[1.51755e+00, 1.30000e+01, 3.60000e+00, 1.36000e+00, 7.29900e+01,\n",
              "        5.70000e-01, 8.40000e+00, 0.00000e+00, 1.10000e-01],\n",
              "       [1.51727e+00, 1.47000e+01, 0.00000e+00, 2.34000e+00, 7.32800e+01,\n",
              "        0.00000e+00, 8.95000e+00, 6.60000e-01, 0.00000e+00],\n",
              "       [1.52152e+00, 1.30500e+01, 3.65000e+00, 8.70000e-01, 7.22200e+01,\n",
              "        1.90000e-01, 9.85000e+00, 0.00000e+00, 1.70000e-01],\n",
              "       [1.51602e+00, 1.48500e+01, 0.00000e+00, 2.38000e+00, 7.32800e+01,\n",
              "        0.00000e+00, 8.76000e+00, 6.40000e-01, 9.00000e-02],\n",
              "       [1.51708e+00, 1.37200e+01, 3.68000e+00, 1.81000e+00, 7.20600e+01,\n",
              "        6.40000e-01, 7.88000e+00, 0.00000e+00, 0.00000e+00],\n",
              "       [1.52739e+00, 1.10200e+01, 0.00000e+00, 7.50000e-01, 7.30800e+01,\n",
              "        0.00000e+00, 1.49600e+01, 0.00000e+00, 0.00000e+00],\n",
              "       [1.51761e+00, 1.28100e+01, 3.54000e+00, 1.23000e+00, 7.32400e+01,\n",
              "        5.80000e-01, 8.39000e+00, 0.00000e+00, 0.00000e+00],\n",
              "       [1.51569e+00, 1.32400e+01, 3.49000e+00, 1.47000e+00, 7.32500e+01,\n",
              "        3.80000e-01, 8.03000e+00, 0.00000e+00, 0.00000e+00],\n",
              "       [1.51590e+00, 1.30200e+01, 3.58000e+00, 1.51000e+00, 7.31200e+01,\n",
              "        6.90000e-01, 7.96000e+00, 0.00000e+00, 0.00000e+00],\n",
              "       [1.51660e+00, 1.29900e+01, 3.18000e+00, 1.23000e+00, 7.29700e+01,\n",
              "        5.80000e-01, 8.81000e+00, 0.00000e+00, 2.40000e-01],\n",
              "       [1.51916e+00, 1.41500e+01, 0.00000e+00, 2.09000e+00, 7.27400e+01,\n",
              "        0.00000e+00, 1.08800e+01, 0.00000e+00, 0.00000e+00],\n",
              "       [1.52369e+00, 1.34400e+01, 0.00000e+00, 1.58000e+00, 7.22200e+01,\n",
              "        3.20000e-01, 1.22400e+01, 0.00000e+00, 0.00000e+00],\n",
              "       [1.51851e+00, 1.32000e+01, 3.63000e+00, 1.07000e+00, 7.28300e+01,\n",
              "        5.70000e-01, 8.41000e+00, 9.00000e-02, 1.70000e-01],\n",
              "       [1.51631e+00, 1.33400e+01, 3.57000e+00, 1.57000e+00, 7.28700e+01,\n",
              "        6.10000e-01, 7.89000e+00, 0.00000e+00, 0.00000e+00],\n",
              "       [1.51829e+00, 1.44600e+01, 2.24000e+00, 1.62000e+00, 7.23800e+01,\n",
              "        0.00000e+00, 9.26000e+00, 0.00000e+00, 0.00000e+00],\n",
              "       [1.51969e+00, 1.26400e+01, 0.00000e+00, 1.65000e+00, 7.37500e+01,\n",
              "        3.80000e-01, 1.15300e+01, 0.00000e+00, 0.00000e+00],\n",
              "       [1.51613e+00, 1.38800e+01, 1.78000e+00, 1.79000e+00, 7.31000e+01,\n",
              "        0.00000e+00, 8.67000e+00, 7.60000e-01, 0.00000e+00],\n",
              "       [1.51911e+00, 1.39000e+01, 3.73000e+00, 1.18000e+00, 7.21200e+01,\n",
              "        6.00000e-02, 8.89000e+00, 0.00000e+00, 0.00000e+00],\n",
              "       [1.51900e+00, 1.34900e+01, 3.48000e+00, 1.35000e+00, 7.19500e+01,\n",
              "        5.50000e-01, 9.00000e+00, 0.00000e+00, 0.00000e+00],\n",
              "       [1.51115e+00, 1.73800e+01, 0.00000e+00, 3.40000e-01, 7.54100e+01,\n",
              "        0.00000e+00, 6.65000e+00, 0.00000e+00, 0.00000e+00],\n",
              "       [1.51689e+00, 1.26700e+01, 2.88000e+00, 1.71000e+00, 7.32100e+01,\n",
              "        7.30000e-01, 8.54000e+00, 0.00000e+00, 0.00000e+00],\n",
              "       [1.51623e+00, 1.41400e+01, 0.00000e+00, 2.88000e+00, 7.26100e+01,\n",
              "        8.00000e-02, 9.18000e+00, 1.06000e+00, 0.00000e+00],\n",
              "       [1.52065e+00, 1.43600e+01, 0.00000e+00, 2.02000e+00, 7.34200e+01,\n",
              "        0.00000e+00, 8.44000e+00, 1.64000e+00, 0.00000e+00],\n",
              "       [1.51545e+00, 1.41400e+01, 0.00000e+00, 2.68000e+00, 7.33900e+01,\n",
              "        8.00000e-02, 9.07000e+00, 6.10000e-01, 5.00000e-02],\n",
              "       [1.51670e+00, 1.32400e+01, 3.57000e+00, 1.38000e+00, 7.27000e+01,\n",
              "        5.60000e-01, 8.44000e+00, 0.00000e+00, 1.00000e-01],\n",
              "       [1.52410e+00, 1.38300e+01, 2.90000e+00, 1.17000e+00, 7.11500e+01,\n",
              "        8.00000e-02, 1.07900e+01, 0.00000e+00, 0.00000e+00],\n",
              "       [1.51768e+00, 1.26500e+01, 3.56000e+00, 1.30000e+00, 7.30800e+01,\n",
              "        6.10000e-01, 8.69000e+00, 0.00000e+00, 1.40000e-01],\n",
              "       [1.51764e+00, 1.29800e+01, 3.54000e+00, 1.21000e+00, 7.30000e+01,\n",
              "        6.50000e-01, 8.53000e+00, 0.00000e+00, 0.00000e+00],\n",
              "       [1.52119e+00, 1.29700e+01, 3.30000e-01, 1.51000e+00, 7.33900e+01,\n",
              "        1.30000e-01, 1.12700e+01, 0.00000e+00, 2.80000e-01],\n",
              "       [1.51784e+00, 1.26800e+01, 3.67000e+00, 1.16000e+00, 7.31100e+01,\n",
              "        6.10000e-01, 8.70000e+00, 0.00000e+00, 0.00000e+00],\n",
              "       [1.51769e+00, 1.24500e+01, 2.71000e+00, 1.29000e+00, 7.37000e+01,\n",
              "        5.60000e-01, 9.06000e+00, 0.00000e+00, 2.40000e-01],\n",
              "       [1.51674e+00, 1.27900e+01, 3.52000e+00, 1.54000e+00, 7.33600e+01,\n",
              "        6.60000e-01, 7.90000e+00, 0.00000e+00, 0.00000e+00],\n",
              "       [1.51776e+00, 1.35300e+01, 3.41000e+00, 1.52000e+00, 7.20400e+01,\n",
              "        5.80000e-01, 8.79000e+00, 0.00000e+00, 0.00000e+00],\n",
              "       [1.51590e+00, 1.32400e+01, 3.34000e+00, 1.47000e+00, 7.31000e+01,\n",
              "        3.90000e-01, 8.22000e+00, 0.00000e+00, 0.00000e+00],\n",
              "       [1.52300e+00, 1.33100e+01, 3.58000e+00, 8.20000e-01, 7.19900e+01,\n",
              "        1.20000e-01, 1.01700e+01, 0.00000e+00, 3.00000e-02],\n",
              "       [1.51658e+00, 1.48000e+01, 0.00000e+00, 1.99000e+00, 7.31100e+01,\n",
              "        0.00000e+00, 8.28000e+00, 1.71000e+00, 0.00000e+00],\n",
              "       [1.51316e+00, 1.30200e+01, 0.00000e+00, 3.04000e+00, 7.04800e+01,\n",
              "        6.21000e+00, 6.96000e+00, 0.00000e+00, 0.00000e+00],\n",
              "       [1.51779e+00, 1.36400e+01, 3.65000e+00, 6.50000e-01, 7.30000e+01,\n",
              "        6.00000e-02, 8.93000e+00, 0.00000e+00, 0.00000e+00],\n",
              "       [1.51743e+00, 1.22000e+01, 3.25000e+00, 1.16000e+00, 7.35500e+01,\n",
              "        6.20000e-01, 8.90000e+00, 0.00000e+00, 2.40000e-01],\n",
              "       [1.51409e+00, 1.42500e+01, 3.09000e+00, 2.08000e+00, 7.22800e+01,\n",
              "        1.10000e+00, 7.08000e+00, 0.00000e+00, 0.00000e+00],\n",
              "       [1.51730e+00, 1.23500e+01, 2.72000e+00, 1.63000e+00, 7.28700e+01,\n",
              "        7.00000e-01, 9.23000e+00, 0.00000e+00, 0.00000e+00],\n",
              "       [1.51508e+00, 1.51500e+01, 0.00000e+00, 2.25000e+00, 7.35000e+01,\n",
              "        0.00000e+00, 8.34000e+00, 6.30000e-01, 0.00000e+00],\n",
              "       [1.51905e+00, 1.36000e+01, 3.62000e+00, 1.11000e+00, 7.26400e+01,\n",
              "        1.40000e-01, 8.76000e+00, 0.00000e+00, 0.00000e+00]])"
            ]
          },
          "metadata": {},
          "execution_count": 145
        }
      ]
    },
    {
      "cell_type": "code",
      "source": [
        "y_train"
      ],
      "metadata": {
        "colab": {
          "base_uri": "https://localhost:8080/"
        },
        "id": "FeU6tEy3z5O-",
        "outputId": "2c87a9e0-410d-4914-902a-eb255703415a"
      },
      "execution_count": null,
      "outputs": [
        {
          "output_type": "execute_result",
          "data": {
            "text/plain": [
              "array([2, 3, 2, 2, 2, 2, 2, 1, 1, 1, 2, 1, 1, 7, 2, 5, 1, 1, 2, 1, 7, 5,\n",
              "       2, 1, 2, 6, 1, 1, 1, 1, 1, 2, 2, 2, 1, 2, 5, 2, 1, 3, 2, 2, 1, 2,\n",
              "       2, 2, 1, 2, 1, 3, 2, 2, 2, 2, 1, 7, 1, 1, 2, 2, 1, 1, 7, 6, 1, 1,\n",
              "       2, 7, 3, 1, 1, 2, 3, 2, 3, 2, 1, 1, 2, 3, 6, 1, 7, 3, 2, 5, 1, 1,\n",
              "       2, 1, 2, 1, 7, 3, 2, 1, 7, 1, 2, 5, 1, 3, 1, 2, 1, 2, 7, 5, 7, 1,\n",
              "       2, 1, 1, 2, 2, 2, 7, 7, 2, 1, 1, 1, 6, 2, 1, 5, 2, 7, 2, 6, 7, 1,\n",
              "       1, 2, 1, 5, 7, 5, 1, 1, 2, 1, 1, 3, 7, 7, 2, 1, 3, 7, 1, 1, 3, 2,\n",
              "       3, 2, 2, 2, 2, 7, 2, 2, 7, 1, 7, 2, 2, 1, 2, 6, 2])"
            ]
          },
          "metadata": {},
          "execution_count": 146
        }
      ]
    },
    {
      "cell_type": "code",
      "source": [
        "y_test"
      ],
      "metadata": {
        "colab": {
          "base_uri": "https://localhost:8080/"
        },
        "id": "dPEAU67Az9Y6",
        "outputId": "72e55723-63ab-4668-e659-4f87c5e8d51c"
      },
      "execution_count": null,
      "outputs": [
        {
          "output_type": "execute_result",
          "data": {
            "text/plain": [
              "array([1, 7, 1, 7, 2, 2, 1, 2, 2, 2, 6, 5, 2, 2, 6, 5, 7, 1, 1, 6, 2, 7,\n",
              "       7, 7, 3, 2, 1, 1, 5, 1, 1, 2, 3, 2, 1, 7, 5, 3, 2, 2, 2, 7, 1])"
            ]
          },
          "metadata": {},
          "execution_count": 147
        }
      ]
    },
    {
      "cell_type": "code",
      "source": [
        "from sklearn.preprocessing import StandardScaler\n",
        "scalar=StandardScaler()\n",
        "scalar.fit(x_train)\n",
        "x_train=scalar.transform(x_train)\n",
        "x_test=scalar.transform(x_test)\n"
      ],
      "metadata": {
        "id": "GZ643D2ggFEx"
      },
      "execution_count": null,
      "outputs": []
    },
    {
      "cell_type": "code",
      "source": [
        "x_train"
      ],
      "metadata": {
        "colab": {
          "base_uri": "https://localhost:8080/"
        },
        "id": "SwjUeyPX0ILj",
        "outputId": "6f025f3c-b51e-4af9-a1b0-70f95416abb2"
      },
      "execution_count": null,
      "outputs": [
        {
          "output_type": "execute_result",
          "data": {
            "text/plain": [
              "array([[-0.84623746, -0.74467528,  0.52636164, ..., -0.68807645,\n",
              "        -0.33761134, -0.60110996],\n",
              "       [ 0.28077633,  0.33413832,  0.54088841, ..., -0.03692037,\n",
              "        -0.04564469,  1.78472688],\n",
              "       [-0.0992632 ,  0.43938842, -2.03034913, ...,  1.44941417,\n",
              "        -0.33761134, -0.60110996],\n",
              "       ...,\n",
              "       [-0.85278986, -0.34998738,  0.44646443, ..., -0.39080954,\n",
              "        -0.33761134,  1.28767753],\n",
              "       [ 0.0121277 ,  0.92617017, -0.43966828, ...,  0.26742432,\n",
              "        -0.33761134, -0.60110996],\n",
              "       [-0.09271079, -1.00780055, -0.02565546, ...,  0.33820216,\n",
              "        -0.33761134,  1.3870874 ]])"
            ]
          },
          "metadata": {},
          "execution_count": 149
        }
      ]
    },
    {
      "cell_type": "code",
      "source": [
        "x_test"
      ],
      "metadata": {
        "colab": {
          "base_uri": "https://localhost:8080/"
        },
        "id": "u_fIc8ip0aLI",
        "outputId": "06e32a77-fc89-406c-b557-6abeda79de65"
      },
      "execution_count": null,
      "outputs": [
        {
          "output_type": "execute_result",
          "data": {
            "text/plain": [
              "array([[-3.05663981e-01, -5.07862542e-01,  5.84468704e-01,\n",
              "        -1.21495330e-01,  5.15619125e-01,  1.24478619e-01,\n",
              "        -3.83731760e-01, -3.37611336e-01,  4.92398588e-01],\n",
              "       [-3.97397661e-01,  1.72870223e+00, -2.03034913e+00,\n",
              "         1.93716871e+00,  8.94259024e-01, -8.95952920e-01,\n",
              "         5.54633328e-03,  9.47041914e-01, -6.01109964e-01],\n",
              "       [ 9.94988561e-01, -4.42081225e-01,  6.20785619e-01,\n",
              "        -1.15082735e+00, -4.89735091e-01, -5.55809074e-01,\n",
              "         6.42546850e-01, -3.37611336e-01,  1.08885780e+00],\n",
              "       [-8.06923021e-01,  1.92604619e+00, -2.03034913e+00,\n",
              "         2.02119582e+00,  8.94259024e-01, -8.95952920e-01,\n",
              "        -1.28931554e-01,  9.08113028e-01,  2.93578851e-01],\n",
              "       [-4.59645516e-01,  4.39388422e-01,  6.42575767e-01,\n",
              "         8.23809587e-01, -6.98639863e-01,  2.49794773e-01,\n",
              "        -7.51776503e-01, -3.37611336e-01, -6.01109964e-01],\n",
              "       [ 2.91811965e+00, -3.11280269e+00, -2.03034913e+00,\n",
              "        -1.40290866e+00,  6.33128059e-01, -8.95952920e-01,\n",
              "         4.25929423e+00, -3.37611336e-01, -6.01109964e-01],\n",
              "       [-2.86006763e-01, -7.57831546e-01,  5.40888407e-01,\n",
              "        -3.94583417e-01,  8.42032831e-01,  1.42380927e-01,\n",
              "        -3.90809544e-01, -3.37611336e-01, -6.01109964e-01],\n",
              "       [-9.15037716e-01, -1.92112220e-01,  5.04571493e-01,\n",
              "         1.09579205e-01,  8.55089380e-01, -2.15665227e-01,\n",
              "        -6.45609750e-01, -3.37611336e-01, -6.01109964e-01],\n",
              "       [-8.46237455e-01, -4.81550015e-01,  5.69941939e-01,\n",
              "         1.93606309e-01,  6.85354252e-01,  3.39306311e-01,\n",
              "        -6.95154235e-01, -3.37611336e-01, -6.01109964e-01],\n",
              "       [-6.16903254e-01, -5.21018805e-01,  2.79406623e-01,\n",
              "        -3.94583417e-01,  4.89506028e-01,  1.42380927e-01,\n",
              "        -9.35426359e-02, -3.37611336e-01,  1.78472688e+00],\n",
              "       [ 2.21804682e-01,  1.00510775e+00, -2.03034913e+00,\n",
              "         1.41199931e+00,  1.89205419e-01, -8.95952920e-01,\n",
              "         1.37155855e+00, -3.37611336e-01, -6.01109964e-01],\n",
              "       [ 1.70592459e+00,  7.10130474e-02, -2.03034913e+00,\n",
              "         3.40653741e-01, -4.89735091e-01, -3.23079074e-01,\n",
              "         2.33413711e+00, -3.37611336e-01, -6.01109964e-01],\n",
              "       [ 8.85149549e-03, -2.44737274e-01,  6.06258853e-01,\n",
              "        -7.30691832e-01,  3.06714353e-01,  1.24478619e-01,\n",
              "        -3.76653977e-01, -1.62431348e-01,  1.08885780e+00],\n",
              "       [-7.11913137e-01, -6.05495865e-02,  5.62678556e-01,\n",
              "         3.19646965e-01,  3.58940546e-01,  1.96087850e-01,\n",
              "        -7.44698719e-01, -3.37611336e-01, -6.01109964e-01],\n",
              "       [-6.32249678e-02,  1.41295191e+00, -4.03351368e-01,\n",
              "         4.24680845e-01, -2.80830319e-01, -8.95952920e-01,\n",
              "         2.24957622e-01, -3.37611336e-01, -6.01109964e-01],\n",
              "       [ 3.95443435e-01, -9.81488024e-01, -2.03034913e+00,\n",
              "         4.87701172e-01,  1.50791679e+00, -2.15665227e-01,\n",
              "         1.83161448e+00, -3.37611336e-01, -6.01109964e-01],\n",
              "       [-7.70884789e-01,  6.49888637e-01, -7.37466980e-01,\n",
              "         7.81796035e-01,  6.59241156e-01, -8.95952920e-01,\n",
              "        -1.92631605e-01,  1.14168635e+00, -6.01109964e-01],\n",
              "       [ 2.05423668e-01,  6.76201163e-01,  6.78892682e-01,\n",
              "        -4.99617297e-01, -6.20300573e-01, -7.88539074e-01,\n",
              "        -3.69203678e-02, -3.37611336e-01, -6.01109964e-01],\n",
              "       [ 1.69385436e-01,  1.36794364e-01,  4.97308110e-01,\n",
              "        -1.42502106e-01, -8.42261894e-01,  8.86740037e-02,\n",
              "         4.09352509e-02, -3.37611336e-01, -6.01109964e-01],\n",
              "       [-2.40243382e+00,  5.25458082e+00, -2.03034913e+00,\n",
              "        -2.26418648e+00,  3.67530380e+00, -8.95952920e-01,\n",
              "        -1.62234388e+00, -3.37611336e-01, -6.01109964e-01],\n",
              "       [-5.21893370e-01, -9.42019234e-01,  6.15051369e-02,\n",
              "         6.13741828e-01,  8.02863187e-01,  4.10915542e-01,\n",
              "        -2.84642791e-01, -3.37611336e-01, -6.01109964e-01],\n",
              "       [-7.38122760e-01,  9.91951485e-01, -2.03034913e+00,\n",
              "         3.07153461e+00,  1.94702913e-02, -7.52734458e-01,\n",
              "         1.68335354e-01,  1.72561964e+00, -6.01109964e-01],\n",
              "       [ 7.09958911e-01,  1.28138928e+00, -2.03034913e+00,\n",
              "         1.26495188e+00,  1.07705070e+00, -8.95952920e-01,\n",
              "        -3.55420626e-01,  2.85455735e+00, -6.01109964e-01],\n",
              "       [-9.93666585e-01,  9.91951485e-01, -2.03034913e+00,\n",
              "         2.65139909e+00,  1.03788106e+00, -7.52734458e-01,\n",
              "         9.04797355e-02,  8.49719698e-01, -1.04060622e-01],\n",
              "       [-5.84141225e-01, -1.92112220e-01,  5.62678556e-01,\n",
              "        -7.94817780e-02,  1.36979226e-01,  1.06576311e-01,\n",
              "        -3.55420626e-01, -3.37611336e-01,  3.92988719e-01],\n",
              "       [ 1.84024890e+00,  5.84107320e-01,  7.60319027e-02,\n",
              "        -5.20624073e-01, -1.88678575e+00, -7.52734458e-01,\n",
              "         1.30785850e+00, -3.37611336e-01, -6.01109964e-01],\n",
              "       [-2.63073343e-01, -9.68331761e-01,  5.55415173e-01,\n",
              "        -2.47535985e-01,  6.33128059e-01,  1.96087850e-01,\n",
              "        -1.78476038e-01, -3.37611336e-01,  7.90628193e-01],\n",
              "       [-2.76178155e-01, -5.34175069e-01,  5.40888407e-01,\n",
              "        -4.36596969e-01,  5.28675673e-01,  2.67697081e-01,\n",
              "        -2.91720574e-01, -3.37611336e-01, -6.01109964e-01],\n",
              "       [ 8.86873866e-01, -5.47331332e-01, -1.79065750e+00,\n",
              "         1.93606309e-01,  1.03788106e+00, -6.63222920e-01,\n",
              "         1.64759211e+00, -3.37611336e-01,  2.18236635e+00],\n",
              "       [-2.10654097e-01, -9.28862970e-01,  6.35312385e-01,\n",
              "        -5.41630849e-01,  6.72297704e-01,  1.96087850e-01,\n",
              "        -1.71398255e-01, -3.37611336e-01, -6.01109964e-01],\n",
              "       [-2.59797140e-01, -1.23145703e+00, -6.19723721e-02,\n",
              "        -2.68542761e-01,  1.44263405e+00,  1.06576311e-01,\n",
              "         8.34019520e-02, -3.37611336e-01,  1.78472688e+00],\n",
              "       [-5.71036414e-01, -7.84144073e-01,  5.26361641e-01,\n",
              "         2.56626637e-01,  9.98711410e-01,  2.85599388e-01,\n",
              "        -7.37620936e-01, -3.37611336e-01, -6.01109964e-01],\n",
              "       [-2.36863720e-01,  1.89419418e-01,  4.46464430e-01,\n",
              "         2.14613085e-01, -7.24752959e-01,  1.42380927e-01,\n",
              "        -1.07698203e-01, -3.37611336e-01, -6.01109964e-01],\n",
              "       [-8.46237455e-01, -1.92112220e-01,  3.95620749e-01,\n",
              "         1.09579205e-01,  6.59241156e-01, -1.97762920e-01,\n",
              "        -5.11131863e-01, -3.37611336e-01, -6.01109964e-01],\n",
              "       [ 1.47986659e+00, -1.00018377e-01,  5.69941939e-01,\n",
              "        -1.25586123e+00, -7.90035701e-01, -6.81125228e-01,\n",
              "         8.69035922e-01, -3.37611336e-01, -3.02880359e-01],\n",
              "       [-6.23455660e-01,  1.86026487e+00, -2.03034913e+00,\n",
              "         1.20193155e+00,  6.72297704e-01, -8.95952920e-01,\n",
              "        -4.68665162e-01,  2.99080845e+00, -6.01109964e-01],\n",
              "       [-1.74391704e+00, -4.81550015e-01, -2.03034913e+00,\n",
              "         3.40764303e+00, -2.76157449e+00,  1.02213802e+01,\n",
              "        -1.40293259e+00, -3.37611336e-01, -6.01109964e-01],\n",
              "       [-2.27035112e-01,  3.34138315e-01,  6.20785619e-01,\n",
              "        -1.61297642e+00,  5.28675673e-01, -7.88539074e-01,\n",
              "        -8.60923375e-03, -3.37611336e-01, -6.01109964e-01],\n",
              "       [-3.44978415e-01, -1.56036361e+00,  3.30250304e-01,\n",
              "        -5.41630849e-01,  1.24678583e+00,  2.13990158e-01,\n",
              "        -2.98425843e-02, -3.37611336e-01,  1.78472688e+00],\n",
              "       [-1.43923018e+00,  1.13667038e+00,  2.14036177e-01,\n",
              "         1.39099254e+00, -4.11395801e-01,  1.07330093e+00,\n",
              "        -1.31799918e+00, -3.37611336e-01, -6.01109964e-01],\n",
              "       [-3.87569053e-01, -1.36301966e+00, -5.47089892e-02,\n",
              "         4.45687620e-01,  3.58940546e-01,  3.57208619e-01,\n",
              "         2.03724272e-01, -3.37611336e-01, -6.01109964e-01],\n",
              "       [-1.11488609e+00,  2.32073409e+00, -2.03034913e+00,\n",
              "         1.74810773e+00,  1.18150309e+00, -8.95952920e-01,\n",
              "        -4.26198461e-01,  8.88648585e-01, -6.01109964e-01],\n",
              "       [ 1.85766451e-01,  2.81513262e-01,  5.98995470e-01,\n",
              "        -6.46664728e-01,  5.86399360e-02, -6.45320612e-01,\n",
              "        -1.28931554e-01, -3.37611336e-01, -6.01109964e-01]])"
            ]
          },
          "metadata": {},
          "execution_count": 150
        }
      ]
    },
    {
      "cell_type": "code",
      "source": [
        "from sklearn.neighbors import KNeighborsClassifier\n",
        "knn=KNeighborsClassifier(n_neighbors=7)\n",
        "knn.fit(x_train,y_train)\n",
        "y_pred=knn.predict(x_test)\n",
        "y_pred"
      ],
      "metadata": {
        "colab": {
          "base_uri": "https://localhost:8080/"
        },
        "id": "vfVpKRsIg9eD",
        "outputId": "a110cb6e-4b58-4fb6-9014-c68f8393dff6"
      },
      "execution_count": null,
      "outputs": [
        {
          "output_type": "execute_result",
          "data": {
            "text/plain": [
              "array([1, 7, 1, 7, 2, 2, 1, 2, 2, 1, 6, 2, 1, 2, 6, 5, 7, 1, 1, 7, 2, 7,\n",
              "       7, 7, 2, 1, 1, 1, 2, 1, 1, 2, 2, 2, 1, 7, 5, 1, 1, 2, 1, 7, 2])"
            ]
          },
          "metadata": {},
          "execution_count": 151
        }
      ]
    },
    {
      "cell_type": "code",
      "source": [
        "from sklearn.metrics import confusion_matrix,accuracy_score\n",
        "result=confusion_matrix(y_test,y_pred)\n",
        "result"
      ],
      "metadata": {
        "colab": {
          "base_uri": "https://localhost:8080/"
        },
        "id": "loTHuffgh0fd",
        "outputId": "136d011d-dccc-4c28-aa15-5191b1a94e1b"
      },
      "execution_count": null,
      "outputs": [
        {
          "output_type": "execute_result",
          "data": {
            "text/plain": [
              "array([[10,  1,  0,  0,  0,  0],\n",
              "       [ 5,  9,  0,  0,  0,  0],\n",
              "       [ 1,  2,  0,  0,  0,  0],\n",
              "       [ 0,  2,  0,  2,  0,  0],\n",
              "       [ 0,  0,  0,  0,  2,  1],\n",
              "       [ 0,  0,  0,  0,  0,  8]])"
            ]
          },
          "metadata": {},
          "execution_count": 152
        }
      ]
    },
    {
      "cell_type": "code",
      "source": [
        "score=accuracy_score(y_test,y_pred)\n",
        "score"
      ],
      "metadata": {
        "colab": {
          "base_uri": "https://localhost:8080/"
        },
        "id": "yIFbrWiJiRZu",
        "outputId": "6283ee8a-b8f8-4a69-9520-c6592543fb85"
      },
      "execution_count": null,
      "outputs": [
        {
          "output_type": "execute_result",
          "data": {
            "text/plain": [
              "0.7209302325581395"
            ]
          },
          "metadata": {},
          "execution_count": 153
        }
      ]
    },
    {
      "cell_type": "code",
      "source": [
        "from sklearn.metrics import classification_report\n",
        "print(classification_report(y_test,y_pred))"
      ],
      "metadata": {
        "colab": {
          "base_uri": "https://localhost:8080/"
        },
        "id": "Fpd2d23Ric3a",
        "outputId": "fd47c93a-67d2-4e71-ac51-d263012d0f40"
      },
      "execution_count": null,
      "outputs": [
        {
          "output_type": "stream",
          "name": "stdout",
          "text": [
            "              precision    recall  f1-score   support\n",
            "\n",
            "           1       0.62      0.91      0.74        11\n",
            "           2       0.64      0.64      0.64        14\n",
            "           3       0.00      0.00      0.00         3\n",
            "           5       1.00      0.50      0.67         4\n",
            "           6       1.00      0.67      0.80         3\n",
            "           7       0.89      1.00      0.94         8\n",
            "\n",
            "    accuracy                           0.72        43\n",
            "   macro avg       0.69      0.62      0.63        43\n",
            "weighted avg       0.70      0.72      0.69        43\n",
            "\n"
          ]
        },
        {
          "output_type": "stream",
          "name": "stderr",
          "text": [
            "/usr/local/lib/python3.10/dist-packages/sklearn/metrics/_classification.py:1344: UndefinedMetricWarning: Precision and F-score are ill-defined and being set to 0.0 in labels with no predicted samples. Use `zero_division` parameter to control this behavior.\n",
            "  _warn_prf(average, modifier, msg_start, len(result))\n",
            "/usr/local/lib/python3.10/dist-packages/sklearn/metrics/_classification.py:1344: UndefinedMetricWarning: Precision and F-score are ill-defined and being set to 0.0 in labels with no predicted samples. Use `zero_division` parameter to control this behavior.\n",
            "  _warn_prf(average, modifier, msg_start, len(result))\n",
            "/usr/local/lib/python3.10/dist-packages/sklearn/metrics/_classification.py:1344: UndefinedMetricWarning: Precision and F-score are ill-defined and being set to 0.0 in labels with no predicted samples. Use `zero_division` parameter to control this behavior.\n",
            "  _warn_prf(average, modifier, msg_start, len(result))\n"
          ]
        }
      ]
    }
  ]
}